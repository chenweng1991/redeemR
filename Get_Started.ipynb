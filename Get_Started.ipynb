{
 "cells": [
  {
   "cell_type": "code",
   "execution_count": 1,
   "id": "7d57e33a-ba36-44d1-a057-59808e478f60",
   "metadata": {},
   "outputs": [
    {
     "data": {
      "text/html": [
       "'/lab/solexa_weissman/cweng/Packages/R/x86_64-pc-linux-gnu-library/4.1-focal/v5/R-4.1/x86_64-pc-linux-gnu'"
      ],
      "text/latex": [
       "'/lab/solexa\\_weissman/cweng/Packages/R/x86\\_64-pc-linux-gnu-library/4.1-focal/v5/R-4.1/x86\\_64-pc-linux-gnu'"
      ],
      "text/markdown": [
       "'/lab/solexa_weissman/cweng/Packages/R/x86_64-pc-linux-gnu-library/4.1-focal/v5/R-4.1/x86_64-pc-linux-gnu'"
      ],
      "text/plain": [
       "[1] \"/lab/solexa_weissman/cweng/Packages/R/x86_64-pc-linux-gnu-library/4.1-focal/v5/R-4.1/x86_64-pc-linux-gnu\""
      ]
     },
     "metadata": {},
     "output_type": "display_data"
    },
    {
     "data": {
      "text/html": [
       "<style>\n",
       ".list-inline {list-style: none; margin:0; padding: 0}\n",
       ".list-inline>li {display: inline-block}\n",
       ".list-inline>li:not(:last-child)::after {content: \"\\00b7\"; padding: 0 .5ex}\n",
       "</style>\n",
       "<ol class=list-inline><li>'/lab/solexa_weissman/cweng/Projects/MitoTracing_Velocity/SecondaryAnalysis/Donor4Donor9/renv/library/R-4.1/x86_64-pc-linux-gnu'</li><li>'/tmp/RtmpmFeb7o/renv-system-library'</li></ol>\n"
      ],
      "text/latex": [
       "\\begin{enumerate*}\n",
       "\\item '/lab/solexa\\_weissman/cweng/Projects/MitoTracing\\_Velocity/SecondaryAnalysis/Donor4Donor9/renv/library/R-4.1/x86\\_64-pc-linux-gnu'\n",
       "\\item '/tmp/RtmpmFeb7o/renv-system-library'\n",
       "\\end{enumerate*}\n"
      ],
      "text/markdown": [
       "1. '/lab/solexa_weissman/cweng/Projects/MitoTracing_Velocity/SecondaryAnalysis/Donor4Donor9/renv/library/R-4.1/x86_64-pc-linux-gnu'\n",
       "2. '/tmp/RtmpmFeb7o/renv-system-library'\n",
       "\n",
       "\n"
      ],
      "text/plain": [
       "[1] \"/lab/solexa_weissman/cweng/Projects/MitoTracing_Velocity/SecondaryAnalysis/Donor4Donor9/renv/library/R-4.1/x86_64-pc-linux-gnu\"\n",
       "[2] \"/tmp/RtmpmFeb7o/renv-system-library\"                                                                                           "
      ]
     },
     "metadata": {},
     "output_type": "display_data"
    }
   ],
   "source": [
    "current<-getwd()\n",
    "setwd(\"/lab/solexa_weissman/cweng/Projects/MitoTracing_Velocity/SecondaryAnalysis/Donor4Donor9\")\n",
    "source(\"activate.R\")\n",
    "Sys.setenv(RENV_PATHS_CACHE = \"/lab/solexa_weissman/cweng/Packages/R/x86_64-pc-linux-gnu-library/4.1-focal\") \n",
    "renv::paths$cache()\n",
    "# .libPaths(c(renv::paths$cache(),.libPaths()))\n",
    ".libPaths()\n",
    "setwd(current)"
   ]
  },
  {
   "cell_type": "code",
   "execution_count": 2,
   "id": "7727045c-83b0-4e75-96a2-cd326c795e26",
   "metadata": {},
   "outputs": [
    {
     "name": "stdout",
     "output_type": "stream",
     "text": [
      "Installing redeemR [1.0] ...\n",
      "\tOK [built from source]\n"
     ]
    }
   ],
   "source": [
    "install.packages(\"/lab/solexa_weissman/cweng/Packages/redeemR/\")"
   ]
  },
  {
   "cell_type": "code",
   "execution_count": 3,
   "id": "515e4742-01a8-47dc-ae44-5bea44e257c6",
   "metadata": {},
   "outputs": [],
   "source": [
    "library(redeemR)"
   ]
  },
  {
   "cell_type": "code",
   "execution_count": 4,
   "id": "a2ef8921-434c-49ec-99eb-a372527c301b",
   "metadata": {},
   "outputs": [],
   "source": [
    "dir=\"/lab/solexa_weissman/cweng/Sharing/ReDeeM_Tutorial/ReDeeM_Example_Data\""
   ]
  },
  {
   "cell_type": "code",
   "execution_count": 5,
   "id": "6db30168-579b-4c2f-9296-1a0833dac0f1",
   "metadata": {},
   "outputs": [
    {
     "name": "stdout",
     "output_type": "stream",
     "text": [
      "[1] \"Use all cells\"\n",
      "[1] \"7404 Cells in QualifiedTotalCts\"\n"
     ]
    }
   ],
   "source": [
    "depth<-DepthSummary(dir)"
   ]
  },
  {
   "cell_type": "code",
   "execution_count": 10,
   "id": "2206651e-8592-42de-b2a0-cfdcf7c94800",
   "metadata": {},
   "outputs": [
    {
     "data": {
      "text/html": [
       "<table class=\"dataframe\">\n",
       "<caption>A tibble: 6 × 2</caption>\n",
       "<thead>\n",
       "\t<tr><th scope=col>V2</th><th scope=col>meanCov</th></tr>\n",
       "\t<tr><th scope=col>&lt;int&gt;</th><th scope=col>&lt;dbl&gt;</th></tr>\n",
       "</thead>\n",
       "<tbody>\n",
       "\t<tr><td>1</td><td>1.482577</td></tr>\n",
       "\t<tr><td>2</td><td>1.932739</td></tr>\n",
       "\t<tr><td>3</td><td>2.867099</td></tr>\n",
       "\t<tr><td>4</td><td>2.895327</td></tr>\n",
       "\t<tr><td>5</td><td>2.928687</td></tr>\n",
       "\t<tr><td>6</td><td>3.331307</td></tr>\n",
       "</tbody>\n",
       "</table>\n"
      ],
      "text/latex": [
       "A tibble: 6 × 2\n",
       "\\begin{tabular}{ll}\n",
       " V2 & meanCov\\\\\n",
       " <int> & <dbl>\\\\\n",
       "\\hline\n",
       "\t 1 & 1.482577\\\\\n",
       "\t 2 & 1.932739\\\\\n",
       "\t 3 & 2.867099\\\\\n",
       "\t 4 & 2.895327\\\\\n",
       "\t 5 & 2.928687\\\\\n",
       "\t 6 & 3.331307\\\\\n",
       "\\end{tabular}\n"
      ],
      "text/markdown": [
       "\n",
       "A tibble: 6 × 2\n",
       "\n",
       "| V2 &lt;int&gt; | meanCov &lt;dbl&gt; |\n",
       "|---|---|\n",
       "| 1 | 1.482577 |\n",
       "| 2 | 1.932739 |\n",
       "| 3 | 2.867099 |\n",
       "| 4 | 2.895327 |\n",
       "| 5 | 2.928687 |\n",
       "| 6 | 3.331307 |\n",
       "\n"
      ],
      "text/plain": [
       "  V2 meanCov \n",
       "1 1  1.482577\n",
       "2 2  1.932739\n",
       "3 3  2.867099\n",
       "4 4  2.895327\n",
       "5 5  2.928687\n",
       "6 6  3.331307"
      ]
     },
     "metadata": {},
     "output_type": "display_data"
    },
    {
     "data": {
      "text/html": [
       "<table class=\"dataframe\">\n",
       "<caption>A tibble: 6 × 2</caption>\n",
       "<thead>\n",
       "\t<tr><th scope=col>V1</th><th scope=col>meanCov</th></tr>\n",
       "\t<tr><th scope=col>&lt;chr&gt;</th><th scope=col>&lt;dbl&gt;</th></tr>\n",
       "</thead>\n",
       "<tbody>\n",
       "\t<tr><td>AAACAAGCACCTCGAC</td><td>47.406723</td></tr>\n",
       "\t<tr><td>AAACCAGGTAACGAGC</td><td>51.049973</td></tr>\n",
       "\t<tr><td>AAACCAGGTCAGTGCC</td><td> 7.997284</td></tr>\n",
       "\t<tr><td>AAACCAGGTGCAACGG</td><td>11.254874</td></tr>\n",
       "\t<tr><td>AAACCAGGTGCACGCT</td><td> 9.402197</td></tr>\n",
       "\t<tr><td>AAACCAGGTGCTCCTT</td><td> 2.540105</td></tr>\n",
       "</tbody>\n",
       "</table>\n"
      ],
      "text/latex": [
       "A tibble: 6 × 2\n",
       "\\begin{tabular}{ll}\n",
       " V1 & meanCov\\\\\n",
       " <chr> & <dbl>\\\\\n",
       "\\hline\n",
       "\t AAACAAGCACCTCGAC & 47.406723\\\\\n",
       "\t AAACCAGGTAACGAGC & 51.049973\\\\\n",
       "\t AAACCAGGTCAGTGCC &  7.997284\\\\\n",
       "\t AAACCAGGTGCAACGG & 11.254874\\\\\n",
       "\t AAACCAGGTGCACGCT &  9.402197\\\\\n",
       "\t AAACCAGGTGCTCCTT &  2.540105\\\\\n",
       "\\end{tabular}\n"
      ],
      "text/markdown": [
       "\n",
       "A tibble: 6 × 2\n",
       "\n",
       "| V1 &lt;chr&gt; | meanCov &lt;dbl&gt; |\n",
       "|---|---|\n",
       "| AAACAAGCACCTCGAC | 47.406723 |\n",
       "| AAACCAGGTAACGAGC | 51.049973 |\n",
       "| AAACCAGGTCAGTGCC |  7.997284 |\n",
       "| AAACCAGGTGCAACGG | 11.254874 |\n",
       "| AAACCAGGTGCACGCT |  9.402197 |\n",
       "| AAACCAGGTGCTCCTT |  2.540105 |\n",
       "\n"
      ],
      "text/plain": [
       "  V1               meanCov  \n",
       "1 AAACAAGCACCTCGAC 47.406723\n",
       "2 AAACCAGGTAACGAGC 51.049973\n",
       "3 AAACCAGGTCAGTGCC  7.997284\n",
       "4 AAACCAGGTGCAACGG 11.254874\n",
       "5 AAACCAGGTGCACGCT  9.402197\n",
       "6 AAACCAGGTGCTCCTT  2.540105"
      ]
     },
     "metadata": {},
     "output_type": "display_data"
    }
   ],
   "source": [
    "depth$Total[[1]] %>% head\n",
    "depth$Total[[2]] %>% head"
   ]
  },
  {
   "cell_type": "code",
   "execution_count": 8,
   "id": "66a9ec8e-21fc-47c8-804c-563e3388acf6",
   "metadata": {},
   "outputs": [],
   "source": [
    "library(dplyr)"
   ]
  },
  {
   "cell_type": "code",
   "execution_count": null,
   "id": "c7817a9a-70e5-4118-a76f-249cbf3a64f7",
   "metadata": {},
   "outputs": [],
   "source": []
  }
 ],
 "metadata": {
  "kernelspec": {
   "display_name": "R - U20-v4.1",
   "language": "R",
   "name": "iru20v41"
  },
  "language_info": {
   "codemirror_mode": "r",
   "file_extension": ".r",
   "mimetype": "text/x-r-source",
   "name": "R",
   "pygments_lexer": "r",
   "version": "4.1.0"
  },
  "widgets": {
   "application/vnd.jupyter.widget-state+json": {
    "state": {},
    "version_major": 2,
    "version_minor": 0
   }
  }
 },
 "nbformat": 4,
 "nbformat_minor": 5
}
