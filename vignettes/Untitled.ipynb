{
 "cells": [
  {
   "cell_type": "code",
   "execution_count": 3,
   "id": "b4389877-7151-446f-b0f6-6765b5a6b3dc",
   "metadata": {
    "tags": []
   },
   "outputs": [
    {
     "name": "stderr",
     "output_type": "stream",
     "text": [
      "Warning message:\n",
      "“package ‘/lab/solexa_weissman/cweng/Packages/redeemR/’ is not available for this version of R\n",
      "\n",
      "A version of this package for your version of R might be available elsewhere,\n",
      "see the ideas at\n",
      "https://cran.r-project.org/doc/manuals/r-patched/R-admin.html#Installing-packages”\n"
     ]
    }
   ],
   "source": [
    "install.packages(\"/lab/solexa_weissman/cweng/Packages/redeemR/\")"
   ]
  },
  {
   "cell_type": "code",
   "execution_count": 2,
   "id": "2ebd1541-0e75-419d-aaaa-f3b08f44169b",
   "metadata": {
    "tags": []
   },
   "outputs": [
    {
     "name": "stderr",
     "output_type": "stream",
     "text": [
      "Warning message:\n",
      "“replacing previous import ‘ape::where’ by ‘dplyr::where’ when loading ‘redeemR’”\n",
      "Warning message:\n",
      "“replacing previous import ‘ape::keep.tip’ by ‘tidytree::keep.tip’ when loading ‘redeemR’”\n",
      "Warning message:\n",
      "“replacing previous import ‘ape::drop.tip’ by ‘tidytree::drop.tip’ when loading ‘redeemR’”\n"
     ]
    }
   ],
   "source": [
    "library(redeemR)"
   ]
  },
  {
   "cell_type": "markdown",
   "id": "60347f2c-90e7-4c33-9c43-1b195344aaa8",
   "metadata": {},
   "source": [
    "new feature that generate raw fragment for passfilter variants with freq (# mol per cell) with distance\n",
    "To examine the position biases"
   ]
  },
  {
   "cell_type": "code",
   "execution_count": null,
   "id": "ca39ec8e-8eab-4cef-9893-fc617ac0d9a2",
   "metadata": {},
   "outputs": [],
   "source": []
  }
 ],
 "metadata": {
  "kernelspec": {
   "display_name": "R 4.3",
   "language": "R",
   "name": "r4.3"
  },
  "language_info": {
   "codemirror_mode": "r",
   "file_extension": ".r",
   "mimetype": "text/x-r-source",
   "name": "R",
   "pygments_lexer": "r",
   "version": "4.3.1"
  },
  "widgets": {
   "application/vnd.jupyter.widget-state+json": {
    "state": {},
    "version_major": 2,
    "version_minor": 0
   }
  }
 },
 "nbformat": 4,
 "nbformat_minor": 5
}
