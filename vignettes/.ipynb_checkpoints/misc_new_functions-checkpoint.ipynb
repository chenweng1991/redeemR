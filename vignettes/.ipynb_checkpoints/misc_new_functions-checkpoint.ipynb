{
 "cells": [
  {
   "cell_type": "code",
   "execution_count": 5,
   "id": "b4389877-7151-446f-b0f6-6765b5a6b3dc",
   "metadata": {
    "tags": []
   },
   "outputs": [],
   "source": [
    "#devtools::install_github(\"chenweng1991/redeemR\")"
   ]
  },
  {
   "cell_type": "code",
   "execution_count": 12,
   "id": "289af1b1-7766-4e2f-b758-88a25eb73df3",
   "metadata": {
    "tags": []
   },
   "outputs": [
    {
     "name": "stderr",
     "output_type": "stream",
     "text": [
      "Loading required package: usethis\n",
      "\n"
     ]
    }
   ],
   "source": []
  },
  {
   "cell_type": "code",
   "execution_count": null,
   "id": "6ce5ea21-1564-4cd3-912f-4c37fcf2002c",
   "metadata": {
    "tags": []
   },
   "outputs": [],
   "source": [
    "#library(devtools)\n",
    "#install_local(\"/lab/solexa_weissman/cweng/Packages/redeemR\")"
   ]
  },
  {
   "cell_type": "code",
   "execution_count": 2,
   "id": "2ebd1541-0e75-419d-aaaa-f3b08f44169b",
   "metadata": {
    "tags": []
   },
   "outputs": [],
   "source": [
    "library(redeemR)\n",
    "library(stringr)\n",
    "library(dplyr)\n",
    "library(tidyr)\n",
    "library(purrr)"
   ]
  },
  {
   "cell_type": "markdown",
   "id": "302a2be8-58b0-4934-a84b-f2dfa3d9ceab",
   "metadata": {},
   "source": [
    "# Position bias analysis\n",
    "Add new feature that generate raw fragment for passfilter variants with freq (# mol per cell) with distance\n",
    "To examine the position biases"
   ]
  },
  {
   "cell_type": "code",
   "execution_count": 3,
   "id": "ca39ec8e-8eab-4cef-9893-fc617ac0d9a2",
   "metadata": {
    "tags": []
   },
   "outputs": [],
   "source": [
    "redeemv_final <- \"/lab/solexa_weissman/cweng/Projects/MitoTracing_Velocity/SecondaryAnalysis/reproducibility_pub/data/redeemV_final\"\n",
    "sample=\"/Young1.T1.BMMC.Consensus.final/\""
   ]
  },
  {
   "cell_type": "code",
   "execution_count": 4,
   "id": "2f5a6afc-28e1-4329-a054-79f6958b59a2",
   "metadata": {
    "tags": []
   },
   "outputs": [],
   "source": [
    "## read in redeemR raw data \n",
    "VariantsGTSummary<-redeemR.read(path=paste0(redeemv_final,sample),thr=\"S\",Processed=T)"
   ]
  },
  {
   "cell_type": "markdown",
   "id": "d62c5868-14db-462a-ab0b-9d241629040a",
   "metadata": {
    "tags": []
   },
   "source": [
    "make redeemR object"
   ]
  },
  {
   "cell_type": "code",
   "execution_count": 5,
   "id": "3e669df7-07c6-4ddd-ab0d-bbbf13f64549",
   "metadata": {
    "tags": []
   },
   "outputs": [
    {
     "name": "stdout",
     "output_type": "stream",
     "text": [
      "[1] \"41114 variants to start\"\n",
      "[1] \"40728 variants after remove low quality cells\"\n",
      " [1] \"Tag Homoplasmy: 11674_C_T\" \"Tag Homoplasmy: 11719_G_A\"\n",
      " [3] \"Tag Homoplasmy: 11947_A_G\" \"Tag Homoplasmy: 12414_T_C\"\n",
      " [5] \"Tag Homoplasmy: 1243_T_C\"  \"Tag Homoplasmy: 12705_C_T\"\n",
      " [7] \"Tag Homoplasmy: 12923_G_T\" \"Tag Homoplasmy: 1406_T_C\" \n",
      " [9] \"Tag Homoplasmy: 1438_A_G\"  \"Tag Homoplasmy: 14766_C_T\"\n",
      "[11] \"Tag Homoplasmy: 15326_A_G\" \"Tag Homoplasmy: 15884_G_C\"\n",
      "[13] \"Tag Homoplasmy: 16223_C_T\" \"Tag Homoplasmy: 16292_C_T\"\n",
      "[15] \"Tag Homoplasmy: 16519_T_C\" \"Tag Homoplasmy: 194_C_T\"  \n",
      "[17] \"Tag Homoplasmy: 195_T_C\"   \"Tag Homoplasmy: 199_T_C\"  \n",
      "[19] \"Tag Homoplasmy: 204_T_C\"   \"Tag Homoplasmy: 207_G_A\"  \n",
      "[21] \"Tag Homoplasmy: 263_A_G\"   \"Tag Homoplasmy: 2706_A_G\" \n",
      "[23] \"Tag Homoplasmy: 3505_A_G\"  \"Tag Homoplasmy: 4769_A_G\" \n",
      "[25] \"Tag Homoplasmy: 5046_G_A\"  \"Tag Homoplasmy: 5460_G_A\" \n",
      "[27] \"Tag Homoplasmy: 7028_C_T\"  \"Tag Homoplasmy: 7058_T_C\" \n",
      "[29] \"Tag Homoplasmy: 709_G_A\"   \"Tag Homoplasmy: 73_A_G\"   \n",
      "[31] \"Tag Homoplasmy: 750_A_G\"   \"Tag Homoplasmy: 8251_G_A\" \n",
      "[33] \"Tag Homoplasmy: 8860_A_G\"  \"Tag Homoplasmy: 8994_G_A\" \n",
      "[1] \"After filtering, 3930 Variants left\"\n"
     ]
    }
   ],
   "source": [
    "redeemR<-Create_redeemR(VariantsGTSummary)"
   ]
  },
  {
   "cell_type": "markdown",
   "id": "5fbcd287-3e2d-4718-a311-d44834ab0404",
   "metadata": {},
   "source": [
    "run the new function **add_raw_fragment**"
   ]
  },
  {
   "cell_type": "code",
   "execution_count": 6,
   "id": "8baaf8d1-62e1-4b49-a11d-55d0221f2867",
   "metadata": {
    "tags": []
   },
   "outputs": [],
   "source": [
    "## new function to produce the raw \n",
    "redeemR@raw.fragment.uniqV <- add_raw_fragment(redeemR)"
   ]
  },
  {
   "cell_type": "markdown",
   "id": "2187d8ff-e2b3-4533-9847-a7b216e0863b",
   "metadata": {},
   "source": [
    "Show the results"
   ]
  },
  {
   "cell_type": "code",
   "execution_count": 9,
   "id": "762c3f82-09f9-4e21-a2a8-83b7f1157ce6",
   "metadata": {
    "tags": []
   },
   "outputs": [
    {
     "data": {
      "text/html": [
       "<table class=\"dataframe\">\n",
       "<caption>A data.frame: 6 × 9</caption>\n",
       "<thead>\n",
       "\t<tr><th></th><th scope=col>UMI</th><th scope=col>start</th><th scope=col>end</th><th scope=col>pos</th><th scope=col>variant</th><th scope=col>length</th><th scope=col>rel_position</th><th scope=col>Freq</th><th scope=col>edge_dist</th></tr>\n",
       "\t<tr><th></th><th scope=col>&lt;chr&gt;</th><th scope=col>&lt;dbl&gt;</th><th scope=col>&lt;dbl&gt;</th><th scope=col>&lt;int&gt;</th><th scope=col>&lt;chr&gt;</th><th scope=col>&lt;dbl&gt;</th><th scope=col>&lt;dbl&gt;</th><th scope=col>&lt;int&gt;</th><th scope=col>&lt;dbl&gt;</th></tr>\n",
       "</thead>\n",
       "<tbody>\n",
       "\t<tr><th scope=row>1</th><td>AAACAAGCAAACTAAC_11505_11683</td><td>11505</td><td>11683</td><td>11674</td><td>11674_C_T</td><td>178</td><td>0.9494382</td><td>33</td><td>  9</td></tr>\n",
       "\t<tr><th scope=row>2</th><td>AAACAAGCAAACTAAC_11529_11689</td><td>11529</td><td>11689</td><td>11674</td><td>11674_C_T</td><td>160</td><td>0.9062500</td><td>33</td><td> 15</td></tr>\n",
       "\t<tr><th scope=row>3</th><td>AAACAAGCAAACTAAC_11540_11691</td><td>11540</td><td>11691</td><td>11674</td><td>11674_C_T</td><td>151</td><td>0.8874172</td><td>33</td><td> 17</td></tr>\n",
       "\t<tr><th scope=row>4</th><td>AAACAAGCAAACTAAC_11564_11728</td><td>11564</td><td>11728</td><td>11674</td><td>11674_C_T</td><td>164</td><td>0.6707317</td><td>33</td><td> 54</td></tr>\n",
       "\t<tr><th scope=row>5</th><td>AAACAAGCAAACTAAC_11565_11863</td><td>11565</td><td>11863</td><td>11674</td><td>11674_C_T</td><td>298</td><td>0.3657718</td><td>33</td><td>109</td></tr>\n",
       "\t<tr><th scope=row>6</th><td>AAACAAGCAAACTAAC_11683_11571</td><td>11571</td><td>11683</td><td>11674</td><td>11674_C_T</td><td>112</td><td>0.9196429</td><td>33</td><td>  9</td></tr>\n",
       "</tbody>\n",
       "</table>\n"
      ],
      "text/latex": [
       "A data.frame: 6 × 9\n",
       "\\begin{tabular}{r|lllllllll}\n",
       "  & UMI & start & end & pos & variant & length & rel\\_position & Freq & edge\\_dist\\\\\n",
       "  & <chr> & <dbl> & <dbl> & <int> & <chr> & <dbl> & <dbl> & <int> & <dbl>\\\\\n",
       "\\hline\n",
       "\t1 & AAACAAGCAAACTAAC\\_11505\\_11683 & 11505 & 11683 & 11674 & 11674\\_C\\_T & 178 & 0.9494382 & 33 &   9\\\\\n",
       "\t2 & AAACAAGCAAACTAAC\\_11529\\_11689 & 11529 & 11689 & 11674 & 11674\\_C\\_T & 160 & 0.9062500 & 33 &  15\\\\\n",
       "\t3 & AAACAAGCAAACTAAC\\_11540\\_11691 & 11540 & 11691 & 11674 & 11674\\_C\\_T & 151 & 0.8874172 & 33 &  17\\\\\n",
       "\t4 & AAACAAGCAAACTAAC\\_11564\\_11728 & 11564 & 11728 & 11674 & 11674\\_C\\_T & 164 & 0.6707317 & 33 &  54\\\\\n",
       "\t5 & AAACAAGCAAACTAAC\\_11565\\_11863 & 11565 & 11863 & 11674 & 11674\\_C\\_T & 298 & 0.3657718 & 33 & 109\\\\\n",
       "\t6 & AAACAAGCAAACTAAC\\_11683\\_11571 & 11571 & 11683 & 11674 & 11674\\_C\\_T & 112 & 0.9196429 & 33 &   9\\\\\n",
       "\\end{tabular}\n"
      ],
      "text/markdown": [
       "\n",
       "A data.frame: 6 × 9\n",
       "\n",
       "| <!--/--> | UMI &lt;chr&gt; | start &lt;dbl&gt; | end &lt;dbl&gt; | pos &lt;int&gt; | variant &lt;chr&gt; | length &lt;dbl&gt; | rel_position &lt;dbl&gt; | Freq &lt;int&gt; | edge_dist &lt;dbl&gt; |\n",
       "|---|---|---|---|---|---|---|---|---|---|\n",
       "| 1 | AAACAAGCAAACTAAC_11505_11683 | 11505 | 11683 | 11674 | 11674_C_T | 178 | 0.9494382 | 33 |   9 |\n",
       "| 2 | AAACAAGCAAACTAAC_11529_11689 | 11529 | 11689 | 11674 | 11674_C_T | 160 | 0.9062500 | 33 |  15 |\n",
       "| 3 | AAACAAGCAAACTAAC_11540_11691 | 11540 | 11691 | 11674 | 11674_C_T | 151 | 0.8874172 | 33 |  17 |\n",
       "| 4 | AAACAAGCAAACTAAC_11564_11728 | 11564 | 11728 | 11674 | 11674_C_T | 164 | 0.6707317 | 33 |  54 |\n",
       "| 5 | AAACAAGCAAACTAAC_11565_11863 | 11565 | 11863 | 11674 | 11674_C_T | 298 | 0.3657718 | 33 | 109 |\n",
       "| 6 | AAACAAGCAAACTAAC_11683_11571 | 11571 | 11683 | 11674 | 11674_C_T | 112 | 0.9196429 | 33 |   9 |\n",
       "\n"
      ],
      "text/plain": [
       "  UMI                          start end   pos   variant   length rel_position\n",
       "1 AAACAAGCAAACTAAC_11505_11683 11505 11683 11674 11674_C_T 178    0.9494382   \n",
       "2 AAACAAGCAAACTAAC_11529_11689 11529 11689 11674 11674_C_T 160    0.9062500   \n",
       "3 AAACAAGCAAACTAAC_11540_11691 11540 11691 11674 11674_C_T 151    0.8874172   \n",
       "4 AAACAAGCAAACTAAC_11564_11728 11564 11728 11674 11674_C_T 164    0.6707317   \n",
       "5 AAACAAGCAAACTAAC_11565_11863 11565 11863 11674 11674_C_T 298    0.3657718   \n",
       "6 AAACAAGCAAACTAAC_11683_11571 11571 11683 11674 11674_C_T 112    0.9196429   \n",
       "  Freq edge_dist\n",
       "1 33     9      \n",
       "2 33    15      \n",
       "3 33    17      \n",
       "4 33    54      \n",
       "5 33   109      \n",
       "6 33     9      "
      ]
     },
     "metadata": {},
     "output_type": "display_data"
    }
   ],
   "source": [
    "head(redeemR@raw.fragment.uniqV)"
   ]
  },
  {
   "cell_type": "markdown",
   "id": "129496fa-8703-4acb-8dd0-3032acc67a3e",
   "metadata": {},
   "source": [
    "Check the heteroplasmy position biases"
   ]
  },
  {
   "cell_type": "code",
   "execution_count": 7,
   "id": "12f9c73a-549b-4cec-8103-b15c002cd04c",
   "metadata": {
    "tags": []
   },
   "outputs": [
    {
     "data": {
      "image/png": "[encoded data removed]",
      "text/plain": [
       "Plot with title “Histogram of raw.fragment.uniqV.hetero$rel_position”"
      ]
     },
     "metadata": {
      "image/png": {
       "height": 420,
       "width": 420
      }
     },
     "output_type": "display_data"
    }
   ],
   "source": [
    "raw.fragment.uniqV.hetero<- subset(redeemR@raw.fragment.uniqV, !variant %in% redeemR@HomoVariants)\n",
    "hist(raw.fragment.uniqV.hetero$rel_position)"
   ]
  },
  {
   "cell_type": "markdown",
   "id": "cc312276-c625-4673-9393-e28db1117b58",
   "metadata": {},
   "source": [
    "Run new function **make_ks_test_df** that compute KS statstics for each variant based on redeemR@raw.fragment.uniqV"
   ]
  },
  {
   "cell_type": "code",
   "execution_count": 2,
   "id": "509f7c54-4130-4614-b288-dd0b9d5a6b67",
   "metadata": {
    "tags": []
   },
   "outputs": [
    {
     "data": {
      "text/html": [
       "<pre class=language-r><code>function (redeemR) \n",
       "{\n",
       "<span style=white-space:pre-wrap>    print(\"Make sure redeemR@raw.fragment.uniqV exist, produced by redeemR@raw.fragment.uniqV &lt;- add_raw_fragment(redeemR)\")</span>\n",
       "<span style=white-space:pre-wrap>    redeemR@raw.fragment.uniqV %&gt;% nest(data = c(-variant)) %&gt;% </span>\n",
       "<span style=white-space:pre-wrap>        mutate(D_stat = purrr::map(data, ~(ks.test(.x$rel_position, </span>\n",
       "<span style=white-space:pre-wrap>            \"punif\", 0, 1))), tidied = purrr::map(D_stat, broom::tidy)) %&gt;% </span>\n",
       "<span style=white-space:pre-wrap>        mutate(n = map_dbl(data, nrow)) %&gt;% tidyr::unnest(tidied) %&gt;% </span>\n",
       "<span style=white-space:pre-wrap>        dplyr::select(variant, statistic, p.value, n)</span>\n",
       "}</code></pre>"
      ],
      "text/latex": [
       "\\begin{minted}{r}\n",
       "function (redeemR) \n",
       "\\{\n",
       "    print(\"Make sure redeemR@raw.fragment.uniqV exist, produced by redeemR@raw.fragment.uniqV <- add\\_raw\\_fragment(redeemR)\")\n",
       "    redeemR@raw.fragment.uniqV \\%>\\% nest(data = c(-variant)) \\%>\\% \n",
       "        mutate(D\\_stat = purrr::map(data, \\textasciitilde{}(ks.test(.x\\$rel\\_position, \n",
       "            \"punif\", 0, 1))), tidied = purrr::map(D\\_stat, broom::tidy)) \\%>\\% \n",
       "        mutate(n = map\\_dbl(data, nrow)) \\%>\\% tidyr::unnest(tidied) \\%>\\% \n",
       "        dplyr::select(variant, statistic, p.value, n)\n",
       "\\}\n",
       "\\end{minted}"
      ],
      "text/markdown": [
       "```r\n",
       "function (redeemR) \n",
       "{\n",
       "    print(\"Make sure redeemR@raw.fragment.uniqV exist, produced by redeemR@raw.fragment.uniqV <- add_raw_fragment(redeemR)\")\n",
       "    redeemR@raw.fragment.uniqV %>% nest(data = c(-variant)) %>% \n",
       "        mutate(D_stat = purrr::map(data, ~(ks.test(.x$rel_position, \n",
       "            \"punif\", 0, 1))), tidied = purrr::map(D_stat, broom::tidy)) %>% \n",
       "        mutate(n = map_dbl(data, nrow)) %>% tidyr::unnest(tidied) %>% \n",
       "        dplyr::select(variant, statistic, p.value, n)\n",
       "}\n",
       "```"
      ],
      "text/plain": [
       "function (redeemR) \n",
       "{\n",
       "    print(\"Make sure redeemR@raw.fragment.uniqV exist, produced by redeemR@raw.fragment.uniqV <- add_raw_fragment(redeemR)\")\n",
       "    redeemR@raw.fragment.uniqV %>% nest(data = c(-variant)) %>% \n",
       "        mutate(D_stat = purrr::map(data, ~(ks.test(.x$rel_position, \n",
       "            \"punif\", 0, 1))), tidied = purrr::map(D_stat, broom::tidy)) %>% \n",
       "        mutate(n = map_dbl(data, nrow)) %>% tidyr::unnest(tidied) %>% \n",
       "        dplyr::select(variant, statistic, p.value, n)\n",
       "}\n",
       "<bytecode: 0x55c573da0db0>\n",
       "<environment: namespace:redeemR>"
      ]
     },
     "metadata": {},
     "output_type": "display_data"
    }
   ],
   "source": [
    "make_ks_test_df"
   ]
  },
  {
   "cell_type": "markdown",
   "id": "45d285f5-ae62-44cb-8b24-9138019aea51",
   "metadata": {},
   "source": [
    "Run add_raw_fragment(redeemR) if not run previously"
   ]
  },
  {
   "cell_type": "code",
   "execution_count": null,
   "id": "96e1476c-9d33-4582-bfcd-6e07c4c2a008",
   "metadata": {},
   "outputs": [],
   "source": [
    "## new function to produce the raw \n",
    "#redeemR@raw.fragment.uniqV <- add_raw_fragment(redeemR) \n",
    "# Updated 2024-8-8, directly assign and return the redeem object\n",
    "redeemR<- add_raw_fragment(redeemR)"
   ]
  },
  {
   "cell_type": "code",
   "execution_count": 9,
   "id": "c062acf7-14e4-41aa-8f9d-93e3f5f34790",
   "metadata": {
    "tags": []
   },
   "outputs": [
    {
     "name": "stdout",
     "output_type": "stream",
     "text": [
      "[1] \"Make sure redeemR@raw.fragment.uniqV exist, produced by redeemR@raw.fragment.uniqV <- add_raw_fragment(redeemR)\"\n"
     ]
    },
    {
     "name": "stderr",
     "output_type": "stream",
     "text": [
      "Warning message:\n",
      "“\u001b[1m\u001b[22mThere were 1549 warnings in `mutate()`.\n",
      "The first warning was:\n",
      "\u001b[1m\u001b[22m\u001b[36mℹ\u001b[39m In argument: `D_stat = purrr::map(data, ~(ks.test(.x$rel_position, \"punif\",\n",
      "  0, 1)))`.\n",
      "Caused by warning in `ks.test.default()`:\n",
      "\u001b[33m!\u001b[39m ties should not be present for the Kolmogorov-Smirnov test\n",
      "\u001b[1m\u001b[22m\u001b[36mℹ\u001b[39m Run `dplyr::last_dplyr_warnings()` to see the 1548 remaining warnings.”\n"
     ]
    }
   ],
   "source": [
    "ks.results<- make_ks_test_df(redeemR)"
   ]
  },
  {
   "cell_type": "code",
   "execution_count": null,
   "id": "4da7e5eb-d302-434f-b62a-1e7acc2fc569",
   "metadata": {},
   "outputs": [],
   "source": []
  },
  {
   "cell_type": "markdown",
   "id": "abfa1310-2282-4ad2-a2b0-2a1be9790a04",
   "metadata": {
    "tags": []
   },
   "source": [
    "update adding positivecount_mean"
   ]
  },
  {
   "cell_type": "markdown",
   "id": "7b98b238-291a-4114-8843-67a64caa2091",
   "metadata": {},
   "source": [
    "It should be there by default now,  with the new colum of PositiveMean_cts"
   ]
  },
  {
   "cell_type": "code",
   "execution_count": 9,
   "id": "572665b3-f749-4e22-8da4-79d63a80fa24",
   "metadata": {
    "tags": []
   },
   "outputs": [
    {
     "name": "stdout",
     "output_type": "stream",
     "text": [
      "[1] \"41114 variants to start\"\n",
      "[1] \"40728 variants after remove low quality cells\"\n",
      " [1] \"Tag Homoplasmy: 11674_C_T\" \"Tag Homoplasmy: 11719_G_A\"\n",
      " [3] \"Tag Homoplasmy: 11947_A_G\" \"Tag Homoplasmy: 12414_T_C\"\n",
      " [5] \"Tag Homoplasmy: 1243_T_C\"  \"Tag Homoplasmy: 12705_C_T\"\n",
      " [7] \"Tag Homoplasmy: 12923_G_T\" \"Tag Homoplasmy: 1406_T_C\" \n",
      " [9] \"Tag Homoplasmy: 1438_A_G\"  \"Tag Homoplasmy: 14766_C_T\"\n",
      "[11] \"Tag Homoplasmy: 15326_A_G\" \"Tag Homoplasmy: 15884_G_C\"\n",
      "[13] \"Tag Homoplasmy: 16223_C_T\" \"Tag Homoplasmy: 16292_C_T\"\n",
      "[15] \"Tag Homoplasmy: 16519_T_C\" \"Tag Homoplasmy: 194_C_T\"  \n",
      "[17] \"Tag Homoplasmy: 195_T_C\"   \"Tag Homoplasmy: 199_T_C\"  \n",
      "[19] \"Tag Homoplasmy: 204_T_C\"   \"Tag Homoplasmy: 207_G_A\"  \n",
      "[21] \"Tag Homoplasmy: 263_A_G\"   \"Tag Homoplasmy: 2706_A_G\" \n",
      "[23] \"Tag Homoplasmy: 3505_A_G\"  \"Tag Homoplasmy: 4769_A_G\" \n",
      "[25] \"Tag Homoplasmy: 5046_G_A\"  \"Tag Homoplasmy: 5460_G_A\" \n",
      "[27] \"Tag Homoplasmy: 7028_C_T\"  \"Tag Homoplasmy: 7058_T_C\" \n",
      "[29] \"Tag Homoplasmy: 709_G_A\"   \"Tag Homoplasmy: 73_A_G\"   \n",
      "[31] \"Tag Homoplasmy: 750_A_G\"   \"Tag Homoplasmy: 8251_G_A\" \n",
      "[33] \"Tag Homoplasmy: 8860_A_G\"  \"Tag Homoplasmy: 8994_G_A\" \n",
      "[1] \"After filtering, 3930 Variants left\"\n"
     ]
    }
   ],
   "source": [
    "redeemR<-Create_redeemR(VariantsGTSummary)"
   ]
  },
  {
   "cell_type": "code",
   "execution_count": 12,
   "id": "145be3fa-25d6-46e5-9010-b7ab4e2a3e1c",
   "metadata": {
    "tags": []
   },
   "outputs": [
    {
     "data": {
      "text/html": [
       "<table class=\"dataframe\">\n",
       "<caption>A data.frame: 3 × 11</caption>\n",
       "<thead>\n",
       "\t<tr><th></th><th scope=col>Variants</th><th scope=col>CellN</th><th scope=col>PositiveMean</th><th scope=col>PositiveMean_cts</th><th scope=col>maxcts</th><th scope=col>CellNPCT</th><th scope=col>TotalVcount</th><th scope=col>TotalCov</th><th scope=col>totalVAF</th><th scope=col>CV</th><th scope=col>HomoTag</th></tr>\n",
       "\t<tr><th></th><th scope=col>&lt;chr&gt;</th><th scope=col>&lt;int&gt;</th><th scope=col>&lt;dbl&gt;</th><th scope=col>&lt;dbl&gt;</th><th scope=col>&lt;int&gt;</th><th scope=col>&lt;dbl&gt;</th><th scope=col>&lt;int&gt;</th><th scope=col>&lt;dbl&gt;</th><th scope=col>&lt;dbl&gt;</th><th scope=col>&lt;dbl&gt;</th><th scope=col>&lt;chr&gt;</th></tr>\n",
       "</thead>\n",
       "<tbody>\n",
       "\t<tr><th scope=row>5</th><td>10000_G_A</td><td>8</td><td>0.1099266</td><td>3.500000</td><td>11</td><td>0.0013269199</td><td>28</td><td>233928.8</td><td>0.0001196945</td><td>0.2652497</td><td>Hetero</td></tr>\n",
       "\t<tr><th scope=row>9</th><td>10001_T_C</td><td>4</td><td>0.1100860</td><td>2.250000</td><td> 6</td><td>0.0006634599</td><td> 9</td><td>232444.0</td><td>0.0000387190</td><td>0.2848641</td><td>Hetero</td></tr>\n",
       "\t<tr><th scope=row>30</th><td>10009_G_A</td><td>6</td><td>0.0836577</td><td>2.166667</td><td> 8</td><td>0.0009951899</td><td>13</td><td>239747.1</td><td>0.0000542238</td><td>0.2895478</td><td>Hetero</td></tr>\n",
       "</tbody>\n",
       "</table>\n"
      ],
      "text/latex": [
       "A data.frame: 3 × 11\n",
       "\\begin{tabular}{r|lllllllllll}\n",
       "  & Variants & CellN & PositiveMean & PositiveMean\\_cts & maxcts & CellNPCT & TotalVcount & TotalCov & totalVAF & CV & HomoTag\\\\\n",
       "  & <chr> & <int> & <dbl> & <dbl> & <int> & <dbl> & <int> & <dbl> & <dbl> & <dbl> & <chr>\\\\\n",
       "\\hline\n",
       "\t5 & 10000\\_G\\_A & 8 & 0.1099266 & 3.500000 & 11 & 0.0013269199 & 28 & 233928.8 & 0.0001196945 & 0.2652497 & Hetero\\\\\n",
       "\t9 & 10001\\_T\\_C & 4 & 0.1100860 & 2.250000 &  6 & 0.0006634599 &  9 & 232444.0 & 0.0000387190 & 0.2848641 & Hetero\\\\\n",
       "\t30 & 10009\\_G\\_A & 6 & 0.0836577 & 2.166667 &  8 & 0.0009951899 & 13 & 239747.1 & 0.0000542238 & 0.2895478 & Hetero\\\\\n",
       "\\end{tabular}\n"
      ],
      "text/markdown": [
       "\n",
       "A data.frame: 3 × 11\n",
       "\n",
       "| <!--/--> | Variants &lt;chr&gt; | CellN &lt;int&gt; | PositiveMean &lt;dbl&gt; | PositiveMean_cts &lt;dbl&gt; | maxcts &lt;int&gt; | CellNPCT &lt;dbl&gt; | TotalVcount &lt;int&gt; | TotalCov &lt;dbl&gt; | totalVAF &lt;dbl&gt; | CV &lt;dbl&gt; | HomoTag &lt;chr&gt; |\n",
       "|---|---|---|---|---|---|---|---|---|---|---|---|\n",
       "| 5 | 10000_G_A | 8 | 0.1099266 | 3.500000 | 11 | 0.0013269199 | 28 | 233928.8 | 0.0001196945 | 0.2652497 | Hetero |\n",
       "| 9 | 10001_T_C | 4 | 0.1100860 | 2.250000 |  6 | 0.0006634599 |  9 | 232444.0 | 0.0000387190 | 0.2848641 | Hetero |\n",
       "| 30 | 10009_G_A | 6 | 0.0836577 | 2.166667 |  8 | 0.0009951899 | 13 | 239747.1 | 0.0000542238 | 0.2895478 | Hetero |\n",
       "\n"
      ],
      "text/plain": [
       "   Variants  CellN PositiveMean PositiveMean_cts maxcts CellNPCT    \n",
       "5  10000_G_A 8     0.1099266    3.500000         11     0.0013269199\n",
       "9  10001_T_C 4     0.1100860    2.250000          6     0.0006634599\n",
       "30 10009_G_A 6     0.0836577    2.166667          8     0.0009951899\n",
       "   TotalVcount TotalCov totalVAF     CV        HomoTag\n",
       "5  28          233928.8 0.0001196945 0.2652497 Hetero \n",
       "9   9          232444.0 0.0000387190 0.2848641 Hetero \n",
       "30 13          239747.1 0.0000542238 0.2895478 Hetero "
      ]
     },
     "metadata": {},
     "output_type": "display_data"
    }
   ],
   "source": [
    "redeemR@V.fitered %>% head(., n=3)"
   ]
  },
  {
   "cell_type": "markdown",
   "id": "826eb426-c984-45a5-86cd-ffcdad6dcb8a",
   "metadata": {
    "tags": []
   },
   "source": [
    "## New function: *convert_variant*"
   ]
  },
  {
   "cell_type": "markdown",
   "id": "e5b43792-8989-4047-9ee8-e0849627f4f1",
   "metadata": {},
   "source": [
    "24-8-7 Added a new function to convert the two different way of variants </br>\n",
    "for example from '10000_G_A' to/from 'Variants10000GA'"
   ]
  },
  {
   "cell_type": "code",
   "execution_count": 9,
   "id": "cc7279cd-c639-4984-906c-b8876d099812",
   "metadata": {
    "tags": []
   },
   "outputs": [
    {
     "data": {
      "text/html": [
       "<style>\n",
       ".list-inline {list-style: none; margin:0; padding: 0}\n",
       ".list-inline>li {display: inline-block}\n",
       ".list-inline>li:not(:last-child)::after {content: \"\\00b7\"; padding: 0 .5ex}\n",
       "</style>\n",
       "<ol class=list-inline><li>'Variants10000GA'</li><li>'Variants10001TC'</li><li>'Variants10009GA'</li><li>'Variants10010TC'</li><li>'Variants10013CA'</li><li>'Variants10014GA'</li></ol>\n"
      ],
      "text/latex": [
       "\\begin{enumerate*}\n",
       "\\item 'Variants10000GA'\n",
       "\\item 'Variants10001TC'\n",
       "\\item 'Variants10009GA'\n",
       "\\item 'Variants10010TC'\n",
       "\\item 'Variants10013CA'\n",
       "\\item 'Variants10014GA'\n",
       "\\end{enumerate*}\n"
      ],
      "text/markdown": [
       "1. 'Variants10000GA'\n",
       "2. 'Variants10001TC'\n",
       "3. 'Variants10009GA'\n",
       "4. 'Variants10010TC'\n",
       "5. 'Variants10013CA'\n",
       "6. 'Variants10014GA'\n",
       "\n",
       "\n"
      ],
      "text/plain": [
       "[1] \"Variants10000GA\" \"Variants10001TC\" \"Variants10009GA\" \"Variants10010TC\"\n",
       "[5] \"Variants10013CA\" \"Variants10014GA\""
      ]
     },
     "metadata": {},
     "output_type": "display_data"
    }
   ],
   "source": [
    "convert_variant(redeemR@V.fitered$Variants) %>% head"
   ]
  },
  {
   "cell_type": "markdown",
   "id": "6771695e-8d6b-4e52-a8d1-1da4d365ea57",
   "metadata": {
    "tags": []
   },
   "source": [
    "It can do both ways"
   ]
  },
  {
   "cell_type": "markdown",
   "id": "0a93c4c7-29a8-4671-868f-b0765e7b5d3e",
   "metadata": {},
   "source": [
    "## New function: \n",
    "- *redeemR.read.trim*\n",
    "- *Create_redeemR_model*"
   ]
  },
  {
   "cell_type": "markdown",
   "id": "e81acdb4-3fa4-4ac6-8b27-0a22ea311dd5",
   "metadata": {},
   "source": [
    "Read redeem with edge trimming"
   ]
  },
  {
   "cell_type": "code",
   "execution_count": 5,
   "id": "b1aa63c3-a165-40ba-b7ce-9b2255c53470",
   "metadata": {
    "tags": []
   },
   "outputs": [],
   "source": [
    "redeemv_final <- \"/lab/solexa_weissman/cweng/Projects/MitoTracing_Velocity/SecondaryAnalysis/reproducibility_pub/data/redeemV_final\"\n",
    "sample=\"/Young1.T1.BMMC.Consensus.final/\""
   ]
  },
  {
   "cell_type": "code",
   "execution_count": 6,
   "id": "50846011-f52f-40e5-942a-05b7b8f468b8",
   "metadata": {
    "tags": []
   },
   "outputs": [],
   "source": [
    "VariantsGTSummary <- redeemR.read.trim(paste0(redeemv_final,sample), \"S\", Processed=T,\n",
    "                                       \"/VariantsGTSummary.S.trim4.RDS\",edge_trim=4)"
   ]
  },
  {
   "cell_type": "code",
   "execution_count": null,
   "id": "b0968d77-5c52-4ec2-8c2b-fde8017e04a0",
   "metadata": {
    "tags": []
   },
   "outputs": [
    {
     "name": "stderr",
     "output_type": "stream",
     "text": [
      "Loading required package: Matrix.utils\n",
      "\n",
      "Loading required package: Matrix\n",
      "\n",
      "\n",
      "Attaching package: ‘Matrix’\n",
      "\n",
      "\n",
      "The following objects are masked from ‘package:tidyr’:\n",
      "\n",
      "    expand, pack, unpack\n",
      "\n",
      "\n",
      "Only heteroplasmic mutations are used\n",
      "\n",
      "@Cts.Mtx and @Cts.Mtx.bi are added\n",
      "\n",
      "Loading required package: qvalue\n",
      "\n"
     ]
    }
   ],
   "source": [
    "example.redeem2<-Create_redeemR_model(VariantsGTSummary)"
   ]
  },
  {
   "cell_type": "code",
   "execution_count": null,
   "id": "9f7f528a-85d1-42de-a8fd-3027c59ff966",
   "metadata": {
    "tags": []
   },
   "outputs": [],
   "source": [
    "example.redeem2<- add_raw_fragment(example.redeem2,raw=\"RawGenotypes.Sensitive.StrandBalance\")"
   ]
  },
  {
   "cell_type": "code",
   "execution_count": null,
   "id": "f96de95e-839c-4147-bf18-e697518c3b5e",
   "metadata": {
    "tags": []
   },
   "outputs": [],
   "source": []
  },
  {
   "cell_type": "code",
   "execution_count": 17,
   "id": "8603e3ce-824a-4007-8d04-db2ac58e4cb5",
   "metadata": {
    "tags": []
   },
   "outputs": [
    {
     "data": {
      "text/html": [
       "<table class=\"dataframe\">\n",
       "<caption>A data.frame: 2243083 × 9</caption>\n",
       "<thead>\n",
       "\t<tr><th scope=col>UMI</th><th scope=col>start</th><th scope=col>end</th><th scope=col>pos</th><th scope=col>variant</th><th scope=col>length</th><th scope=col>rel_position</th><th scope=col>Freq</th><th scope=col>edge_dist</th></tr>\n",
       "\t<tr><th scope=col>&lt;chr&gt;</th><th scope=col>&lt;dbl&gt;</th><th scope=col>&lt;dbl&gt;</th><th scope=col>&lt;int&gt;</th><th scope=col>&lt;chr&gt;</th><th scope=col>&lt;dbl&gt;</th><th scope=col>&lt;dbl&gt;</th><th scope=col>&lt;int&gt;</th><th scope=col>&lt;dbl&gt;</th></tr>\n",
       "</thead>\n",
       "<tbody>\n",
       "\t<tr><td>AAACAAGCAAACTAAC_11505_11683</td><td>11505</td><td>11683</td><td>11674</td><td>11674_C_T</td><td>178</td><td>0.9494382</td><td>33</td><td> 9</td></tr>\n",
       "\t<tr><td>AAACAAGCAAACTAAC_11564_11728</td><td>11564</td><td>11728</td><td>11674</td><td>11674_C_T</td><td>164</td><td>0.6707317</td><td>33</td><td>54</td></tr>\n",
       "\t<tr><td>AAACAAGCAAACTAAC_11683_11571</td><td>11571</td><td>11683</td><td>11674</td><td>11674_C_T</td><td>112</td><td>0.9196429</td><td>33</td><td> 9</td></tr>\n",
       "\t<tr><td>AAACAAGCAAACTAAC_11575_11787</td><td>11575</td><td>11787</td><td>11674</td><td>11674_C_T</td><td>212</td><td>0.4669811</td><td>33</td><td>99</td></tr>\n",
       "\t<tr><td>AAACAAGCAAACTAAC_11683_11609</td><td>11609</td><td>11683</td><td>11674</td><td>11674_C_T</td><td> 74</td><td>0.8783784</td><td>33</td><td> 9</td></tr>\n",
       "\t<tr><td>AAACAAGCAAACTAAC_11609_11766</td><td>11609</td><td>11766</td><td>11674</td><td>11674_C_T</td><td>157</td><td>0.4140127</td><td>33</td><td>65</td></tr>\n",
       "\t<tr><td>AAACAAGCAAACTAAC_11613_11796</td><td>11613</td><td>11796</td><td>11674</td><td>11674_C_T</td><td>183</td><td>0.3333333</td><td>33</td><td>61</td></tr>\n",
       "\t<tr><td>AAACAAGCAAACTAAC_11735_11614</td><td>11614</td><td>11735</td><td>11674</td><td>11674_C_T</td><td>121</td><td>0.4958678</td><td>33</td><td>60</td></tr>\n",
       "\t<tr><td>AAACAAGCAAACTAAC_11750_11666</td><td>11666</td><td>11750</td><td>11674</td><td>11674_C_T</td><td> 84</td><td>0.0952381</td><td>33</td><td> 8</td></tr>\n",
       "\t<tr><td>AAACAAGCAAACTAAC_11564_11728</td><td>11564</td><td>11728</td><td>11719</td><td>11719_G_A</td><td>164</td><td>0.9451220</td><td>36</td><td> 9</td></tr>\n",
       "\t<tr><td>AAACAAGCAAACTAAC_11575_11787</td><td>11575</td><td>11787</td><td>11719</td><td>11719_G_A</td><td>212</td><td>0.6792453</td><td>36</td><td>68</td></tr>\n",
       "\t<tr><td>AAACAAGCAAACTAAC_11609_11766</td><td>11609</td><td>11766</td><td>11719</td><td>11719_G_A</td><td>157</td><td>0.7006369</td><td>36</td><td>47</td></tr>\n",
       "\t<tr><td>AAACAAGCAAACTAAC_11613_11796</td><td>11613</td><td>11796</td><td>11719</td><td>11719_G_A</td><td>183</td><td>0.5792350</td><td>36</td><td>77</td></tr>\n",
       "\t<tr><td>AAACAAGCAAACTAAC_11728_11636</td><td>11636</td><td>11728</td><td>11719</td><td>11719_G_A</td><td> 92</td><td>0.9021739</td><td>36</td><td> 9</td></tr>\n",
       "\t<tr><td>AAACAAGCAAACTAAC_11725_11648</td><td>11648</td><td>11725</td><td>11719</td><td>11719_G_A</td><td> 77</td><td>0.9220779</td><td>36</td><td> 6</td></tr>\n",
       "\t<tr><td>AAACAAGCAAACTAAC_11724_11650</td><td>11650</td><td>11724</td><td>11719</td><td>11719_G_A</td><td> 74</td><td>0.9324324</td><td>36</td><td> 5</td></tr>\n",
       "\t<tr><td>AAACAAGCAAACTAAC_11660_11849</td><td>11660</td><td>11849</td><td>11719</td><td>11719_G_A</td><td>189</td><td>0.3121693</td><td>36</td><td>59</td></tr>\n",
       "\t<tr><td>AAACAAGCAAACTAAC_11724_11664</td><td>11664</td><td>11724</td><td>11719</td><td>11719_G_A</td><td> 60</td><td>0.9166667</td><td>36</td><td> 5</td></tr>\n",
       "\t<tr><td>AAACAAGCAAACTAAC_11816_11673</td><td>11673</td><td>11816</td><td>11719</td><td>11719_G_A</td><td>143</td><td>0.3216783</td><td>36</td><td>46</td></tr>\n",
       "\t<tr><td>AAACAAGCAAACTAAC_11725_11674</td><td>11674</td><td>11725</td><td>11719</td><td>11719_G_A</td><td> 51</td><td>0.8823529</td><td>36</td><td> 6</td></tr>\n",
       "\t<tr><td>AAACAAGCAAACTAAC_11784_11711</td><td>11711</td><td>11784</td><td>11719</td><td>11719_G_A</td><td> 73</td><td>0.1095890</td><td>36</td><td> 8</td></tr>\n",
       "\t<tr><td>AAACAAGCAAACTAAC_11791_11711</td><td>11711</td><td>11791</td><td>11719</td><td>11719_G_A</td><td> 80</td><td>0.1000000</td><td>36</td><td> 8</td></tr>\n",
       "\t<tr><td>AAACAAGCAAACTAAC_11800_11951</td><td>11800</td><td>11951</td><td>11947</td><td>11947_A_G</td><td>151</td><td>0.9735099</td><td>32</td><td> 4</td></tr>\n",
       "\t<tr><td>AAACAAGCAAACTAAC_11956_11836</td><td>11836</td><td>11956</td><td>11947</td><td>11947_A_G</td><td>120</td><td>0.9250000</td><td>32</td><td> 9</td></tr>\n",
       "\t<tr><td>AAACAAGCAAACTAAC_11991_11859</td><td>11859</td><td>11991</td><td>11947</td><td>11947_A_G</td><td>132</td><td>0.6666667</td><td>32</td><td>44</td></tr>\n",
       "\t<tr><td>AAACAAGCAAACTAAC_11860_12015</td><td>11860</td><td>12015</td><td>11947</td><td>11947_A_G</td><td>155</td><td>0.5612903</td><td>32</td><td>68</td></tr>\n",
       "\t<tr><td>AAACAAGCAAACTAAC_11868_12041</td><td>11868</td><td>12041</td><td>11947</td><td>11947_A_G</td><td>173</td><td>0.4566474</td><td>32</td><td>79</td></tr>\n",
       "\t<tr><td>AAACAAGCAAACTAAC_11956_11873</td><td>11873</td><td>11956</td><td>11947</td><td>11947_A_G</td><td> 83</td><td>0.8915663</td><td>32</td><td> 9</td></tr>\n",
       "\t<tr><td>AAACAAGCAAACTAAC_11951_11873</td><td>11873</td><td>11951</td><td>11947</td><td>11947_A_G</td><td> 78</td><td>0.9487179</td><td>32</td><td> 4</td></tr>\n",
       "\t<tr><td>AAACAAGCAAACTAAC_11994_11879</td><td>11879</td><td>11994</td><td>11947</td><td>11947_A_G</td><td>115</td><td>0.5913043</td><td>32</td><td>47</td></tr>\n",
       "\t<tr><td>⋮</td><td>⋮</td><td>⋮</td><td>⋮</td><td>⋮</td><td>⋮</td><td>⋮</td><td>⋮</td><td>⋮</td></tr>\n",
       "\t<tr><td>TTTGTGAGTTGTGACT_16293_16175</td><td>16175</td><td>16293</td><td>16223</td><td>16223_C_T</td><td>118</td><td>0.40677966</td><td> 3</td><td>48</td></tr>\n",
       "\t<tr><td>TTTGTGAGTTGTGACT_16073_16382</td><td>16073</td><td>16382</td><td>16292</td><td>16292_C_T</td><td>309</td><td>0.70873786</td><td> 6</td><td>90</td></tr>\n",
       "\t<tr><td>TTTGTGAGTTGTGACT_16360_16287</td><td>16287</td><td>16360</td><td>16292</td><td>16292_C_T</td><td> 73</td><td>0.06849315</td><td> 6</td><td> 5</td></tr>\n",
       "\t<tr><td>TTTGTGAGTTGTGACT_16373_16287</td><td>16287</td><td>16373</td><td>16292</td><td>16292_C_T</td><td> 86</td><td>0.05813953</td><td> 6</td><td> 5</td></tr>\n",
       "\t<tr><td>TTTGTGAGTTGTGACT_16568_16474</td><td>16474</td><td>16568</td><td>16519</td><td>16519_T_C</td><td> 94</td><td>0.47872340</td><td> 7</td><td>45</td></tr>\n",
       "\t<tr><td>TTTGTGAGTTGTGACT_2715_2626  </td><td> 2626</td><td> 2715</td><td> 2706</td><td>2706_A_G </td><td> 89</td><td>0.89887640</td><td> 5</td><td> 9</td></tr>\n",
       "\t<tr><td>TTTGTGAGTTGTGACT_2761_2645  </td><td> 2645</td><td> 2761</td><td> 2706</td><td>2706_A_G </td><td>116</td><td>0.52586207</td><td> 5</td><td>55</td></tr>\n",
       "\t<tr><td>TTTGTGAGTTGTGACT_2823_2685  </td><td> 2685</td><td> 2823</td><td> 2814</td><td>2814_G_A </td><td>138</td><td>0.93478261</td><td> 6</td><td> 9</td></tr>\n",
       "\t<tr><td>TTTGTGAGTTGTGACT_2939_2809  </td><td> 2809</td><td> 2939</td><td> 2814</td><td>2814_G_A </td><td>130</td><td>0.03846154</td><td> 6</td><td> 5</td></tr>\n",
       "\t<tr><td>TTTGTGAGTTGTGACT_3342_3514  </td><td> 3342</td><td> 3514</td><td> 3505</td><td>3505_A_G </td><td>172</td><td>0.94767442</td><td>11</td><td> 9</td></tr>\n",
       "\t<tr><td>TTTGTGAGTTGTGACT_3431_3582  </td><td> 3431</td><td> 3582</td><td> 3505</td><td>3505_A_G </td><td>151</td><td>0.49006623</td><td>11</td><td>74</td></tr>\n",
       "\t<tr><td>TTTGTGAGTTGTGACT_3562_3497  </td><td> 3497</td><td> 3562</td><td> 3505</td><td>3505_A_G </td><td> 65</td><td>0.12307692</td><td>11</td><td> 8</td></tr>\n",
       "\t<tr><td>TTTGTGAGTTGTGACT_4820_4707  </td><td> 4707</td><td> 4820</td><td> 4769</td><td>4769_A_G </td><td>113</td><td>0.54867257</td><td> 4</td><td>51</td></tr>\n",
       "\t<tr><td>TTTGTGAGTTGTGACT_5381_5591  </td><td> 5381</td><td> 5591</td><td> 5460</td><td>5460_G_A </td><td>210</td><td>0.37619048</td><td> 4</td><td>79</td></tr>\n",
       "\t<tr><td>TTTGTGAGTTGTGACT_548_777    </td><td>  548</td><td>  777</td><td>  709</td><td>709_G_A  </td><td>229</td><td>0.70305677</td><td> 8</td><td>68</td></tr>\n",
       "\t<tr><td>TTTGTGAGTTGTGACT_703_863    </td><td>  703</td><td>  863</td><td>  709</td><td>709_G_A  </td><td>160</td><td>0.03750000</td><td> 8</td><td> 6</td></tr>\n",
       "\t<tr><td>TTTGTGAGTTGTGACT_799_704    </td><td>  704</td><td>  799</td><td>  709</td><td>709_G_A  </td><td> 95</td><td>0.05263158</td><td> 8</td><td> 5</td></tr>\n",
       "\t<tr><td>TTTGTGAGTTGTGACT_775_704    </td><td>  704</td><td>  775</td><td>  709</td><td>709_G_A  </td><td> 71</td><td>0.07042254</td><td> 8</td><td> 5</td></tr>\n",
       "\t<tr><td>TTTGTGAGTTGTGACT_794_699    </td><td>  699</td><td>  794</td><td>  750</td><td>750_A_G  </td><td> 95</td><td>0.53684211</td><td> 7</td><td>44</td></tr>\n",
       "\t<tr><td>TTTGTGAGTTGTGACT_703_863    </td><td>  703</td><td>  863</td><td>  750</td><td>750_A_G  </td><td>160</td><td>0.29375000</td><td> 7</td><td>47</td></tr>\n",
       "\t<tr><td>TTTGTGAGTTGTGACT_799_704    </td><td>  704</td><td>  799</td><td>  750</td><td>750_A_G  </td><td> 95</td><td>0.48421053</td><td> 7</td><td>46</td></tr>\n",
       "\t<tr><td>TTTGTGAGTTGTGACT_799_709    </td><td>  709</td><td>  799</td><td>  750</td><td>750_A_G  </td><td> 90</td><td>0.45555556</td><td> 7</td><td>41</td></tr>\n",
       "\t<tr><td>TTTGTGAGTTGTGACT_8321_8171  </td><td> 8171</td><td> 8321</td><td> 8251</td><td>8251_G_A </td><td>150</td><td>0.53333333</td><td> 9</td><td>70</td></tr>\n",
       "\t<tr><td>TTTGTGAGTTGTGACT_8316_8243  </td><td> 8243</td><td> 8316</td><td> 8251</td><td>8251_G_A </td><td> 73</td><td>0.10958904</td><td> 9</td><td> 8</td></tr>\n",
       "\t<tr><td>TTTGTGAGTTGTGACT_8731_8917  </td><td> 8731</td><td> 8917</td><td> 8860</td><td>8860_A_G </td><td>186</td><td>0.69354839</td><td> 6</td><td>57</td></tr>\n",
       "\t<tr><td>TTTGTGAGTTGTGACT_8865_8731  </td><td> 8731</td><td> 8865</td><td> 8860</td><td>8860_A_G </td><td>134</td><td>0.96268657</td><td> 6</td><td> 5</td></tr>\n",
       "\t<tr><td>TTTGTGAGTTGTGACT_8910_8809  </td><td> 8809</td><td> 8910</td><td> 8860</td><td>8860_A_G </td><td>101</td><td>0.50495050</td><td> 6</td><td>50</td></tr>\n",
       "\t<tr><td>TTTGTGAGTTGTGACT_886_1100   </td><td>  886</td><td> 1100</td><td>  890</td><td>890_C_T  </td><td>214</td><td>0.01869159</td><td> 1</td><td> 4</td></tr>\n",
       "\t<tr><td>TTTGTGAGTTGTGACT_886_1100   </td><td>  886</td><td> 1100</td><td>  891</td><td>891_C_T  </td><td>214</td><td>0.02336449</td><td> 1</td><td> 5</td></tr>\n",
       "\t<tr><td>TTTGTGAGTTGTGACT_8933_9094  </td><td> 8933</td><td> 9094</td><td> 8994</td><td>8994_G_A </td><td>161</td><td>0.37888199</td><td> 6</td><td>61</td></tr>\n",
       "</tbody>\n",
       "</table>\n"
      ],
      "text/latex": [
       "A data.frame: 2243083 × 9\n",
       "\\begin{tabular}{lllllllll}\n",
       " UMI & start & end & pos & variant & length & rel\\_position & Freq & edge\\_dist\\\\\n",
       " <chr> & <dbl> & <dbl> & <int> & <chr> & <dbl> & <dbl> & <int> & <dbl>\\\\\n",
       "\\hline\n",
       "\t AAACAAGCAAACTAAC\\_11505\\_11683 & 11505 & 11683 & 11674 & 11674\\_C\\_T & 178 & 0.9494382 & 33 &  9\\\\\n",
       "\t AAACAAGCAAACTAAC\\_11564\\_11728 & 11564 & 11728 & 11674 & 11674\\_C\\_T & 164 & 0.6707317 & 33 & 54\\\\\n",
       "\t AAACAAGCAAACTAAC\\_11683\\_11571 & 11571 & 11683 & 11674 & 11674\\_C\\_T & 112 & 0.9196429 & 33 &  9\\\\\n",
       "\t AAACAAGCAAACTAAC\\_11575\\_11787 & 11575 & 11787 & 11674 & 11674\\_C\\_T & 212 & 0.4669811 & 33 & 99\\\\\n",
       "\t AAACAAGCAAACTAAC\\_11683\\_11609 & 11609 & 11683 & 11674 & 11674\\_C\\_T &  74 & 0.8783784 & 33 &  9\\\\\n",
       "\t AAACAAGCAAACTAAC\\_11609\\_11766 & 11609 & 11766 & 11674 & 11674\\_C\\_T & 157 & 0.4140127 & 33 & 65\\\\\n",
       "\t AAACAAGCAAACTAAC\\_11613\\_11796 & 11613 & 11796 & 11674 & 11674\\_C\\_T & 183 & 0.3333333 & 33 & 61\\\\\n",
       "\t AAACAAGCAAACTAAC\\_11735\\_11614 & 11614 & 11735 & 11674 & 11674\\_C\\_T & 121 & 0.4958678 & 33 & 60\\\\\n",
       "\t AAACAAGCAAACTAAC\\_11750\\_11666 & 11666 & 11750 & 11674 & 11674\\_C\\_T &  84 & 0.0952381 & 33 &  8\\\\\n",
       "\t AAACAAGCAAACTAAC\\_11564\\_11728 & 11564 & 11728 & 11719 & 11719\\_G\\_A & 164 & 0.9451220 & 36 &  9\\\\\n",
       "\t AAACAAGCAAACTAAC\\_11575\\_11787 & 11575 & 11787 & 11719 & 11719\\_G\\_A & 212 & 0.6792453 & 36 & 68\\\\\n",
       "\t AAACAAGCAAACTAAC\\_11609\\_11766 & 11609 & 11766 & 11719 & 11719\\_G\\_A & 157 & 0.7006369 & 36 & 47\\\\\n",
       "\t AAACAAGCAAACTAAC\\_11613\\_11796 & 11613 & 11796 & 11719 & 11719\\_G\\_A & 183 & 0.5792350 & 36 & 77\\\\\n",
       "\t AAACAAGCAAACTAAC\\_11728\\_11636 & 11636 & 11728 & 11719 & 11719\\_G\\_A &  92 & 0.9021739 & 36 &  9\\\\\n",
       "\t AAACAAGCAAACTAAC\\_11725\\_11648 & 11648 & 11725 & 11719 & 11719\\_G\\_A &  77 & 0.9220779 & 36 &  6\\\\\n",
       "\t AAACAAGCAAACTAAC\\_11724\\_11650 & 11650 & 11724 & 11719 & 11719\\_G\\_A &  74 & 0.9324324 & 36 &  5\\\\\n",
       "\t AAACAAGCAAACTAAC\\_11660\\_11849 & 11660 & 11849 & 11719 & 11719\\_G\\_A & 189 & 0.3121693 & 36 & 59\\\\\n",
       "\t AAACAAGCAAACTAAC\\_11724\\_11664 & 11664 & 11724 & 11719 & 11719\\_G\\_A &  60 & 0.9166667 & 36 &  5\\\\\n",
       "\t AAACAAGCAAACTAAC\\_11816\\_11673 & 11673 & 11816 & 11719 & 11719\\_G\\_A & 143 & 0.3216783 & 36 & 46\\\\\n",
       "\t AAACAAGCAAACTAAC\\_11725\\_11674 & 11674 & 11725 & 11719 & 11719\\_G\\_A &  51 & 0.8823529 & 36 &  6\\\\\n",
       "\t AAACAAGCAAACTAAC\\_11784\\_11711 & 11711 & 11784 & 11719 & 11719\\_G\\_A &  73 & 0.1095890 & 36 &  8\\\\\n",
       "\t AAACAAGCAAACTAAC\\_11791\\_11711 & 11711 & 11791 & 11719 & 11719\\_G\\_A &  80 & 0.1000000 & 36 &  8\\\\\n",
       "\t AAACAAGCAAACTAAC\\_11800\\_11951 & 11800 & 11951 & 11947 & 11947\\_A\\_G & 151 & 0.9735099 & 32 &  4\\\\\n",
       "\t AAACAAGCAAACTAAC\\_11956\\_11836 & 11836 & 11956 & 11947 & 11947\\_A\\_G & 120 & 0.9250000 & 32 &  9\\\\\n",
       "\t AAACAAGCAAACTAAC\\_11991\\_11859 & 11859 & 11991 & 11947 & 11947\\_A\\_G & 132 & 0.6666667 & 32 & 44\\\\\n",
       "\t AAACAAGCAAACTAAC\\_11860\\_12015 & 11860 & 12015 & 11947 & 11947\\_A\\_G & 155 & 0.5612903 & 32 & 68\\\\\n",
       "\t AAACAAGCAAACTAAC\\_11868\\_12041 & 11868 & 12041 & 11947 & 11947\\_A\\_G & 173 & 0.4566474 & 32 & 79\\\\\n",
       "\t AAACAAGCAAACTAAC\\_11956\\_11873 & 11873 & 11956 & 11947 & 11947\\_A\\_G &  83 & 0.8915663 & 32 &  9\\\\\n",
       "\t AAACAAGCAAACTAAC\\_11951\\_11873 & 11873 & 11951 & 11947 & 11947\\_A\\_G &  78 & 0.9487179 & 32 &  4\\\\\n",
       "\t AAACAAGCAAACTAAC\\_11994\\_11879 & 11879 & 11994 & 11947 & 11947\\_A\\_G & 115 & 0.5913043 & 32 & 47\\\\\n",
       "\t ⋮ & ⋮ & ⋮ & ⋮ & ⋮ & ⋮ & ⋮ & ⋮ & ⋮\\\\\n",
       "\t TTTGTGAGTTGTGACT\\_16293\\_16175 & 16175 & 16293 & 16223 & 16223\\_C\\_T & 118 & 0.40677966 &  3 & 48\\\\\n",
       "\t TTTGTGAGTTGTGACT\\_16073\\_16382 & 16073 & 16382 & 16292 & 16292\\_C\\_T & 309 & 0.70873786 &  6 & 90\\\\\n",
       "\t TTTGTGAGTTGTGACT\\_16360\\_16287 & 16287 & 16360 & 16292 & 16292\\_C\\_T &  73 & 0.06849315 &  6 &  5\\\\\n",
       "\t TTTGTGAGTTGTGACT\\_16373\\_16287 & 16287 & 16373 & 16292 & 16292\\_C\\_T &  86 & 0.05813953 &  6 &  5\\\\\n",
       "\t TTTGTGAGTTGTGACT\\_16568\\_16474 & 16474 & 16568 & 16519 & 16519\\_T\\_C &  94 & 0.47872340 &  7 & 45\\\\\n",
       "\t TTTGTGAGTTGTGACT\\_2715\\_2626   &  2626 &  2715 &  2706 & 2706\\_A\\_G  &  89 & 0.89887640 &  5 &  9\\\\\n",
       "\t TTTGTGAGTTGTGACT\\_2761\\_2645   &  2645 &  2761 &  2706 & 2706\\_A\\_G  & 116 & 0.52586207 &  5 & 55\\\\\n",
       "\t TTTGTGAGTTGTGACT\\_2823\\_2685   &  2685 &  2823 &  2814 & 2814\\_G\\_A  & 138 & 0.93478261 &  6 &  9\\\\\n",
       "\t TTTGTGAGTTGTGACT\\_2939\\_2809   &  2809 &  2939 &  2814 & 2814\\_G\\_A  & 130 & 0.03846154 &  6 &  5\\\\\n",
       "\t TTTGTGAGTTGTGACT\\_3342\\_3514   &  3342 &  3514 &  3505 & 3505\\_A\\_G  & 172 & 0.94767442 & 11 &  9\\\\\n",
       "\t TTTGTGAGTTGTGACT\\_3431\\_3582   &  3431 &  3582 &  3505 & 3505\\_A\\_G  & 151 & 0.49006623 & 11 & 74\\\\\n",
       "\t TTTGTGAGTTGTGACT\\_3562\\_3497   &  3497 &  3562 &  3505 & 3505\\_A\\_G  &  65 & 0.12307692 & 11 &  8\\\\\n",
       "\t TTTGTGAGTTGTGACT\\_4820\\_4707   &  4707 &  4820 &  4769 & 4769\\_A\\_G  & 113 & 0.54867257 &  4 & 51\\\\\n",
       "\t TTTGTGAGTTGTGACT\\_5381\\_5591   &  5381 &  5591 &  5460 & 5460\\_G\\_A  & 210 & 0.37619048 &  4 & 79\\\\\n",
       "\t TTTGTGAGTTGTGACT\\_548\\_777     &   548 &   777 &   709 & 709\\_G\\_A   & 229 & 0.70305677 &  8 & 68\\\\\n",
       "\t TTTGTGAGTTGTGACT\\_703\\_863     &   703 &   863 &   709 & 709\\_G\\_A   & 160 & 0.03750000 &  8 &  6\\\\\n",
       "\t TTTGTGAGTTGTGACT\\_799\\_704     &   704 &   799 &   709 & 709\\_G\\_A   &  95 & 0.05263158 &  8 &  5\\\\\n",
       "\t TTTGTGAGTTGTGACT\\_775\\_704     &   704 &   775 &   709 & 709\\_G\\_A   &  71 & 0.07042254 &  8 &  5\\\\\n",
       "\t TTTGTGAGTTGTGACT\\_794\\_699     &   699 &   794 &   750 & 750\\_A\\_G   &  95 & 0.53684211 &  7 & 44\\\\\n",
       "\t TTTGTGAGTTGTGACT\\_703\\_863     &   703 &   863 &   750 & 750\\_A\\_G   & 160 & 0.29375000 &  7 & 47\\\\\n",
       "\t TTTGTGAGTTGTGACT\\_799\\_704     &   704 &   799 &   750 & 750\\_A\\_G   &  95 & 0.48421053 &  7 & 46\\\\\n",
       "\t TTTGTGAGTTGTGACT\\_799\\_709     &   709 &   799 &   750 & 750\\_A\\_G   &  90 & 0.45555556 &  7 & 41\\\\\n",
       "\t TTTGTGAGTTGTGACT\\_8321\\_8171   &  8171 &  8321 &  8251 & 8251\\_G\\_A  & 150 & 0.53333333 &  9 & 70\\\\\n",
       "\t TTTGTGAGTTGTGACT\\_8316\\_8243   &  8243 &  8316 &  8251 & 8251\\_G\\_A  &  73 & 0.10958904 &  9 &  8\\\\\n",
       "\t TTTGTGAGTTGTGACT\\_8731\\_8917   &  8731 &  8917 &  8860 & 8860\\_A\\_G  & 186 & 0.69354839 &  6 & 57\\\\\n",
       "\t TTTGTGAGTTGTGACT\\_8865\\_8731   &  8731 &  8865 &  8860 & 8860\\_A\\_G  & 134 & 0.96268657 &  6 &  5\\\\\n",
       "\t TTTGTGAGTTGTGACT\\_8910\\_8809   &  8809 &  8910 &  8860 & 8860\\_A\\_G  & 101 & 0.50495050 &  6 & 50\\\\\n",
       "\t TTTGTGAGTTGTGACT\\_886\\_1100    &   886 &  1100 &   890 & 890\\_C\\_T   & 214 & 0.01869159 &  1 &  4\\\\\n",
       "\t TTTGTGAGTTGTGACT\\_886\\_1100    &   886 &  1100 &   891 & 891\\_C\\_T   & 214 & 0.02336449 &  1 &  5\\\\\n",
       "\t TTTGTGAGTTGTGACT\\_8933\\_9094   &  8933 &  9094 &  8994 & 8994\\_G\\_A  & 161 & 0.37888199 &  6 & 61\\\\\n",
       "\\end{tabular}\n"
      ],
      "text/markdown": [
       "\n",
       "A data.frame: 2243083 × 9\n",
       "\n",
       "| UMI &lt;chr&gt; | start &lt;dbl&gt; | end &lt;dbl&gt; | pos &lt;int&gt; | variant &lt;chr&gt; | length &lt;dbl&gt; | rel_position &lt;dbl&gt; | Freq &lt;int&gt; | edge_dist &lt;dbl&gt; |\n",
       "|---|---|---|---|---|---|---|---|---|\n",
       "| AAACAAGCAAACTAAC_11505_11683 | 11505 | 11683 | 11674 | 11674_C_T | 178 | 0.9494382 | 33 |  9 |\n",
       "| AAACAAGCAAACTAAC_11564_11728 | 11564 | 11728 | 11674 | 11674_C_T | 164 | 0.6707317 | 33 | 54 |\n",
       "| AAACAAGCAAACTAAC_11683_11571 | 11571 | 11683 | 11674 | 11674_C_T | 112 | 0.9196429 | 33 |  9 |\n",
       "| AAACAAGCAAACTAAC_11575_11787 | 11575 | 11787 | 11674 | 11674_C_T | 212 | 0.4669811 | 33 | 99 |\n",
       "| AAACAAGCAAACTAAC_11683_11609 | 11609 | 11683 | 11674 | 11674_C_T |  74 | 0.8783784 | 33 |  9 |\n",
       "| AAACAAGCAAACTAAC_11609_11766 | 11609 | 11766 | 11674 | 11674_C_T | 157 | 0.4140127 | 33 | 65 |\n",
       "| AAACAAGCAAACTAAC_11613_11796 | 11613 | 11796 | 11674 | 11674_C_T | 183 | 0.3333333 | 33 | 61 |\n",
       "| AAACAAGCAAACTAAC_11735_11614 | 11614 | 11735 | 11674 | 11674_C_T | 121 | 0.4958678 | 33 | 60 |\n",
       "| AAACAAGCAAACTAAC_11750_11666 | 11666 | 11750 | 11674 | 11674_C_T |  84 | 0.0952381 | 33 |  8 |\n",
       "| AAACAAGCAAACTAAC_11564_11728 | 11564 | 11728 | 11719 | 11719_G_A | 164 | 0.9451220 | 36 |  9 |\n",
       "| AAACAAGCAAACTAAC_11575_11787 | 11575 | 11787 | 11719 | 11719_G_A | 212 | 0.6792453 | 36 | 68 |\n",
       "| AAACAAGCAAACTAAC_11609_11766 | 11609 | 11766 | 11719 | 11719_G_A | 157 | 0.7006369 | 36 | 47 |\n",
       "| AAACAAGCAAACTAAC_11613_11796 | 11613 | 11796 | 11719 | 11719_G_A | 183 | 0.5792350 | 36 | 77 |\n",
       "| AAACAAGCAAACTAAC_11728_11636 | 11636 | 11728 | 11719 | 11719_G_A |  92 | 0.9021739 | 36 |  9 |\n",
       "| AAACAAGCAAACTAAC_11725_11648 | 11648 | 11725 | 11719 | 11719_G_A |  77 | 0.9220779 | 36 |  6 |\n",
       "| AAACAAGCAAACTAAC_11724_11650 | 11650 | 11724 | 11719 | 11719_G_A |  74 | 0.9324324 | 36 |  5 |\n",
       "| AAACAAGCAAACTAAC_11660_11849 | 11660 | 11849 | 11719 | 11719_G_A | 189 | 0.3121693 | 36 | 59 |\n",
       "| AAACAAGCAAACTAAC_11724_11664 | 11664 | 11724 | 11719 | 11719_G_A |  60 | 0.9166667 | 36 |  5 |\n",
       "| AAACAAGCAAACTAAC_11816_11673 | 11673 | 11816 | 11719 | 11719_G_A | 143 | 0.3216783 | 36 | 46 |\n",
       "| AAACAAGCAAACTAAC_11725_11674 | 11674 | 11725 | 11719 | 11719_G_A |  51 | 0.8823529 | 36 |  6 |\n",
       "| AAACAAGCAAACTAAC_11784_11711 | 11711 | 11784 | 11719 | 11719_G_A |  73 | 0.1095890 | 36 |  8 |\n",
       "| AAACAAGCAAACTAAC_11791_11711 | 11711 | 11791 | 11719 | 11719_G_A |  80 | 0.1000000 | 36 |  8 |\n",
       "| AAACAAGCAAACTAAC_11800_11951 | 11800 | 11951 | 11947 | 11947_A_G | 151 | 0.9735099 | 32 |  4 |\n",
       "| AAACAAGCAAACTAAC_11956_11836 | 11836 | 11956 | 11947 | 11947_A_G | 120 | 0.9250000 | 32 |  9 |\n",
       "| AAACAAGCAAACTAAC_11991_11859 | 11859 | 11991 | 11947 | 11947_A_G | 132 | 0.6666667 | 32 | 44 |\n",
       "| AAACAAGCAAACTAAC_11860_12015 | 11860 | 12015 | 11947 | 11947_A_G | 155 | 0.5612903 | 32 | 68 |\n",
       "| AAACAAGCAAACTAAC_11868_12041 | 11868 | 12041 | 11947 | 11947_A_G | 173 | 0.4566474 | 32 | 79 |\n",
       "| AAACAAGCAAACTAAC_11956_11873 | 11873 | 11956 | 11947 | 11947_A_G |  83 | 0.8915663 | 32 |  9 |\n",
       "| AAACAAGCAAACTAAC_11951_11873 | 11873 | 11951 | 11947 | 11947_A_G |  78 | 0.9487179 | 32 |  4 |\n",
       "| AAACAAGCAAACTAAC_11994_11879 | 11879 | 11994 | 11947 | 11947_A_G | 115 | 0.5913043 | 32 | 47 |\n",
       "| ⋮ | ⋮ | ⋮ | ⋮ | ⋮ | ⋮ | ⋮ | ⋮ | ⋮ |\n",
       "| TTTGTGAGTTGTGACT_16293_16175 | 16175 | 16293 | 16223 | 16223_C_T | 118 | 0.40677966 |  3 | 48 |\n",
       "| TTTGTGAGTTGTGACT_16073_16382 | 16073 | 16382 | 16292 | 16292_C_T | 309 | 0.70873786 |  6 | 90 |\n",
       "| TTTGTGAGTTGTGACT_16360_16287 | 16287 | 16360 | 16292 | 16292_C_T |  73 | 0.06849315 |  6 |  5 |\n",
       "| TTTGTGAGTTGTGACT_16373_16287 | 16287 | 16373 | 16292 | 16292_C_T |  86 | 0.05813953 |  6 |  5 |\n",
       "| TTTGTGAGTTGTGACT_16568_16474 | 16474 | 16568 | 16519 | 16519_T_C |  94 | 0.47872340 |  7 | 45 |\n",
       "| TTTGTGAGTTGTGACT_2715_2626   |  2626 |  2715 |  2706 | 2706_A_G  |  89 | 0.89887640 |  5 |  9 |\n",
       "| TTTGTGAGTTGTGACT_2761_2645   |  2645 |  2761 |  2706 | 2706_A_G  | 116 | 0.52586207 |  5 | 55 |\n",
       "| TTTGTGAGTTGTGACT_2823_2685   |  2685 |  2823 |  2814 | 2814_G_A  | 138 | 0.93478261 |  6 |  9 |\n",
       "| TTTGTGAGTTGTGACT_2939_2809   |  2809 |  2939 |  2814 | 2814_G_A  | 130 | 0.03846154 |  6 |  5 |\n",
       "| TTTGTGAGTTGTGACT_3342_3514   |  3342 |  3514 |  3505 | 3505_A_G  | 172 | 0.94767442 | 11 |  9 |\n",
       "| TTTGTGAGTTGTGACT_3431_3582   |  3431 |  3582 |  3505 | 3505_A_G  | 151 | 0.49006623 | 11 | 74 |\n",
       "| TTTGTGAGTTGTGACT_3562_3497   |  3497 |  3562 |  3505 | 3505_A_G  |  65 | 0.12307692 | 11 |  8 |\n",
       "| TTTGTGAGTTGTGACT_4820_4707   |  4707 |  4820 |  4769 | 4769_A_G  | 113 | 0.54867257 |  4 | 51 |\n",
       "| TTTGTGAGTTGTGACT_5381_5591   |  5381 |  5591 |  5460 | 5460_G_A  | 210 | 0.37619048 |  4 | 79 |\n",
       "| TTTGTGAGTTGTGACT_548_777     |   548 |   777 |   709 | 709_G_A   | 229 | 0.70305677 |  8 | 68 |\n",
       "| TTTGTGAGTTGTGACT_703_863     |   703 |   863 |   709 | 709_G_A   | 160 | 0.03750000 |  8 |  6 |\n",
       "| TTTGTGAGTTGTGACT_799_704     |   704 |   799 |   709 | 709_G_A   |  95 | 0.05263158 |  8 |  5 |\n",
       "| TTTGTGAGTTGTGACT_775_704     |   704 |   775 |   709 | 709_G_A   |  71 | 0.07042254 |  8 |  5 |\n",
       "| TTTGTGAGTTGTGACT_794_699     |   699 |   794 |   750 | 750_A_G   |  95 | 0.53684211 |  7 | 44 |\n",
       "| TTTGTGAGTTGTGACT_703_863     |   703 |   863 |   750 | 750_A_G   | 160 | 0.29375000 |  7 | 47 |\n",
       "| TTTGTGAGTTGTGACT_799_704     |   704 |   799 |   750 | 750_A_G   |  95 | 0.48421053 |  7 | 46 |\n",
       "| TTTGTGAGTTGTGACT_799_709     |   709 |   799 |   750 | 750_A_G   |  90 | 0.45555556 |  7 | 41 |\n",
       "| TTTGTGAGTTGTGACT_8321_8171   |  8171 |  8321 |  8251 | 8251_G_A  | 150 | 0.53333333 |  9 | 70 |\n",
       "| TTTGTGAGTTGTGACT_8316_8243   |  8243 |  8316 |  8251 | 8251_G_A  |  73 | 0.10958904 |  9 |  8 |\n",
       "| TTTGTGAGTTGTGACT_8731_8917   |  8731 |  8917 |  8860 | 8860_A_G  | 186 | 0.69354839 |  6 | 57 |\n",
       "| TTTGTGAGTTGTGACT_8865_8731   |  8731 |  8865 |  8860 | 8860_A_G  | 134 | 0.96268657 |  6 |  5 |\n",
       "| TTTGTGAGTTGTGACT_8910_8809   |  8809 |  8910 |  8860 | 8860_A_G  | 101 | 0.50495050 |  6 | 50 |\n",
       "| TTTGTGAGTTGTGACT_886_1100    |   886 |  1100 |   890 | 890_C_T   | 214 | 0.01869159 |  1 |  4 |\n",
       "| TTTGTGAGTTGTGACT_886_1100    |   886 |  1100 |   891 | 891_C_T   | 214 | 0.02336449 |  1 |  5 |\n",
       "| TTTGTGAGTTGTGACT_8933_9094   |  8933 |  9094 |  8994 | 8994_G_A  | 161 | 0.37888199 |  6 | 61 |\n",
       "\n"
      ],
      "text/plain": [
       "        UMI                          start end   pos   variant   length\n",
       "1       AAACAAGCAAACTAAC_11505_11683 11505 11683 11674 11674_C_T 178   \n",
       "2       AAACAAGCAAACTAAC_11564_11728 11564 11728 11674 11674_C_T 164   \n",
       "3       AAACAAGCAAACTAAC_11683_11571 11571 11683 11674 11674_C_T 112   \n",
       "4       AAACAAGCAAACTAAC_11575_11787 11575 11787 11674 11674_C_T 212   \n",
       "5       AAACAAGCAAACTAAC_11683_11609 11609 11683 11674 11674_C_T  74   \n",
       "6       AAACAAGCAAACTAAC_11609_11766 11609 11766 11674 11674_C_T 157   \n",
       "7       AAACAAGCAAACTAAC_11613_11796 11613 11796 11674 11674_C_T 183   \n",
       "8       AAACAAGCAAACTAAC_11735_11614 11614 11735 11674 11674_C_T 121   \n",
       "9       AAACAAGCAAACTAAC_11750_11666 11666 11750 11674 11674_C_T  84   \n",
       "10      AAACAAGCAAACTAAC_11564_11728 11564 11728 11719 11719_G_A 164   \n",
       "11      AAACAAGCAAACTAAC_11575_11787 11575 11787 11719 11719_G_A 212   \n",
       "12      AAACAAGCAAACTAAC_11609_11766 11609 11766 11719 11719_G_A 157   \n",
       "13      AAACAAGCAAACTAAC_11613_11796 11613 11796 11719 11719_G_A 183   \n",
       "14      AAACAAGCAAACTAAC_11728_11636 11636 11728 11719 11719_G_A  92   \n",
       "15      AAACAAGCAAACTAAC_11725_11648 11648 11725 11719 11719_G_A  77   \n",
       "16      AAACAAGCAAACTAAC_11724_11650 11650 11724 11719 11719_G_A  74   \n",
       "17      AAACAAGCAAACTAAC_11660_11849 11660 11849 11719 11719_G_A 189   \n",
       "18      AAACAAGCAAACTAAC_11724_11664 11664 11724 11719 11719_G_A  60   \n",
       "19      AAACAAGCAAACTAAC_11816_11673 11673 11816 11719 11719_G_A 143   \n",
       "20      AAACAAGCAAACTAAC_11725_11674 11674 11725 11719 11719_G_A  51   \n",
       "21      AAACAAGCAAACTAAC_11784_11711 11711 11784 11719 11719_G_A  73   \n",
       "22      AAACAAGCAAACTAAC_11791_11711 11711 11791 11719 11719_G_A  80   \n",
       "23      AAACAAGCAAACTAAC_11800_11951 11800 11951 11947 11947_A_G 151   \n",
       "24      AAACAAGCAAACTAAC_11956_11836 11836 11956 11947 11947_A_G 120   \n",
       "25      AAACAAGCAAACTAAC_11991_11859 11859 11991 11947 11947_A_G 132   \n",
       "26      AAACAAGCAAACTAAC_11860_12015 11860 12015 11947 11947_A_G 155   \n",
       "27      AAACAAGCAAACTAAC_11868_12041 11868 12041 11947 11947_A_G 173   \n",
       "28      AAACAAGCAAACTAAC_11956_11873 11873 11956 11947 11947_A_G  83   \n",
       "29      AAACAAGCAAACTAAC_11951_11873 11873 11951 11947 11947_A_G  78   \n",
       "30      AAACAAGCAAACTAAC_11994_11879 11879 11994 11947 11947_A_G 115   \n",
       "⋮       ⋮                            ⋮     ⋮     ⋮     ⋮         ⋮     \n",
       "2243054 TTTGTGAGTTGTGACT_16293_16175 16175 16293 16223 16223_C_T 118   \n",
       "2243055 TTTGTGAGTTGTGACT_16073_16382 16073 16382 16292 16292_C_T 309   \n",
       "2243056 TTTGTGAGTTGTGACT_16360_16287 16287 16360 16292 16292_C_T  73   \n",
       "2243057 TTTGTGAGTTGTGACT_16373_16287 16287 16373 16292 16292_C_T  86   \n",
       "2243058 TTTGTGAGTTGTGACT_16568_16474 16474 16568 16519 16519_T_C  94   \n",
       "2243059 TTTGTGAGTTGTGACT_2715_2626    2626  2715  2706 2706_A_G   89   \n",
       "2243060 TTTGTGAGTTGTGACT_2761_2645    2645  2761  2706 2706_A_G  116   \n",
       "2243061 TTTGTGAGTTGTGACT_2823_2685    2685  2823  2814 2814_G_A  138   \n",
       "2243062 TTTGTGAGTTGTGACT_2939_2809    2809  2939  2814 2814_G_A  130   \n",
       "2243063 TTTGTGAGTTGTGACT_3342_3514    3342  3514  3505 3505_A_G  172   \n",
       "2243064 TTTGTGAGTTGTGACT_3431_3582    3431  3582  3505 3505_A_G  151   \n",
       "2243065 TTTGTGAGTTGTGACT_3562_3497    3497  3562  3505 3505_A_G   65   \n",
       "2243066 TTTGTGAGTTGTGACT_4820_4707    4707  4820  4769 4769_A_G  113   \n",
       "2243067 TTTGTGAGTTGTGACT_5381_5591    5381  5591  5460 5460_G_A  210   \n",
       "2243068 TTTGTGAGTTGTGACT_548_777       548   777   709 709_G_A   229   \n",
       "2243069 TTTGTGAGTTGTGACT_703_863       703   863   709 709_G_A   160   \n",
       "2243070 TTTGTGAGTTGTGACT_799_704       704   799   709 709_G_A    95   \n",
       "2243071 TTTGTGAGTTGTGACT_775_704       704   775   709 709_G_A    71   \n",
       "2243072 TTTGTGAGTTGTGACT_794_699       699   794   750 750_A_G    95   \n",
       "2243073 TTTGTGAGTTGTGACT_703_863       703   863   750 750_A_G   160   \n",
       "2243074 TTTGTGAGTTGTGACT_799_704       704   799   750 750_A_G    95   \n",
       "2243075 TTTGTGAGTTGTGACT_799_709       709   799   750 750_A_G    90   \n",
       "2243076 TTTGTGAGTTGTGACT_8321_8171    8171  8321  8251 8251_G_A  150   \n",
       "2243077 TTTGTGAGTTGTGACT_8316_8243    8243  8316  8251 8251_G_A   73   \n",
       "2243078 TTTGTGAGTTGTGACT_8731_8917    8731  8917  8860 8860_A_G  186   \n",
       "2243079 TTTGTGAGTTGTGACT_8865_8731    8731  8865  8860 8860_A_G  134   \n",
       "2243080 TTTGTGAGTTGTGACT_8910_8809    8809  8910  8860 8860_A_G  101   \n",
       "2243081 TTTGTGAGTTGTGACT_886_1100      886  1100   890 890_C_T   214   \n",
       "2243082 TTTGTGAGTTGTGACT_886_1100      886  1100   891 891_C_T   214   \n",
       "2243083 TTTGTGAGTTGTGACT_8933_9094    8933  9094  8994 8994_G_A  161   \n",
       "        rel_position Freq edge_dist\n",
       "1       0.9494382    33    9       \n",
       "2       0.6707317    33   54       \n",
       "3       0.9196429    33    9       \n",
       "4       0.4669811    33   99       \n",
       "5       0.8783784    33    9       \n",
       "6       0.4140127    33   65       \n",
       "7       0.3333333    33   61       \n",
       "8       0.4958678    33   60       \n",
       "9       0.0952381    33    8       \n",
       "10      0.9451220    36    9       \n",
       "11      0.6792453    36   68       \n",
       "12      0.7006369    36   47       \n",
       "13      0.5792350    36   77       \n",
       "14      0.9021739    36    9       \n",
       "15      0.9220779    36    6       \n",
       "16      0.9324324    36    5       \n",
       "17      0.3121693    36   59       \n",
       "18      0.9166667    36    5       \n",
       "19      0.3216783    36   46       \n",
       "20      0.8823529    36    6       \n",
       "21      0.1095890    36    8       \n",
       "22      0.1000000    36    8       \n",
       "23      0.9735099    32    4       \n",
       "24      0.9250000    32    9       \n",
       "25      0.6666667    32   44       \n",
       "26      0.5612903    32   68       \n",
       "27      0.4566474    32   79       \n",
       "28      0.8915663    32    9       \n",
       "29      0.9487179    32    4       \n",
       "30      0.5913043    32   47       \n",
       "⋮       ⋮            ⋮    ⋮        \n",
       "2243054 0.40677966    3   48       \n",
       "2243055 0.70873786    6   90       \n",
       "2243056 0.06849315    6    5       \n",
       "2243057 0.05813953    6    5       \n",
       "2243058 0.47872340    7   45       \n",
       "2243059 0.89887640    5    9       \n",
       "2243060 0.52586207    5   55       \n",
       "2243061 0.93478261    6    9       \n",
       "2243062 0.03846154    6    5       \n",
       "2243063 0.94767442   11    9       \n",
       "2243064 0.49006623   11   74       \n",
       "2243065 0.12307692   11    8       \n",
       "2243066 0.54867257    4   51       \n",
       "2243067 0.37619048    4   79       \n",
       "2243068 0.70305677    8   68       \n",
       "2243069 0.03750000    8    6       \n",
       "2243070 0.05263158    8    5       \n",
       "2243071 0.07042254    8    5       \n",
       "2243072 0.53684211    7   44       \n",
       "2243073 0.29375000    7   47       \n",
       "2243074 0.48421053    7   46       \n",
       "2243075 0.45555556    7   41       \n",
       "2243076 0.53333333    9   70       \n",
       "2243077 0.10958904    9    8       \n",
       "2243078 0.69354839    6   57       \n",
       "2243079 0.96268657    6    5       \n",
       "2243080 0.50495050    6   50       \n",
       "2243081 0.01869159    1    4       \n",
       "2243082 0.02336449    1    5       \n",
       "2243083 0.37888199    6   61       "
      ]
     },
     "metadata": {},
     "output_type": "display_data"
    }
   ],
   "source": [
    "example.redeem2"
   ]
  },
  {
   "cell_type": "code",
   "execution_count": 14,
   "id": "71714488-fe72-4b34-9727-b618db5ba31e",
   "metadata": {
    "tags": []
   },
   "outputs": [
    {
     "name": "stderr",
     "output_type": "stream",
     "text": [
      "Loading required package: ggplot2\n",
      "\n"
     ]
    },
    {
     "ename": "ERROR",
     "evalue": "Error in redeem@raw.fragment.uniqV: no applicable method for `@` applied to an object of class \"data.frame\"\n",
     "output_type": "error",
     "traceback": [
      "Error in redeem@raw.fragment.uniqV: no applicable method for `@` applied to an object of class \"data.frame\"\nTraceback:\n",
      "1. assess_redeem(example.redeem2)",
      "2. subset(redeem@raw.fragment.uniqV, !variant %in% c(homosets, hotcall)) %>% \n .     ggplot()   # at line 4 of file <text>",
      "3. ggplot(.)",
      "4. subset(redeem@raw.fragment.uniqV, !variant %in% c(homosets, hotcall))"
     ]
    }
   ],
   "source": [
    "assess_redeem(example.redeem2)"
   ]
  },
  {
   "cell_type": "code",
   "execution_count": 13,
   "id": "6068e19a-4366-4ed8-a060-2b0d46c22924",
   "metadata": {
    "tags": []
   },
   "outputs": [],
   "source": [
    "assess_redeem <- function(redeem, homosets, hotcall= c(\"310_T_C\",\"9979_G_A\",\"3109_T_C\")){\n",
    "require(ggplot2)    \n",
    "## check the position distribution</span>\n",
    "p_pos<-subset(redeem@raw.fragment.uniqV, !variant %in% c(homosets,hotcall))  %>% ggplot()+aes(rel_position)+geom_histogram(bins=100,fill=\"white\",color=\"black\")+theme_cw()+ggtitle(\"1+molecule\")\n",
    "pos_1mol <- subset(redeem@raw.fragment.uniqV, !variant %in% c(homosets, hotcall)) %>% subset(., Freq==1)  %>% \n",
    "ggplot()+aes(rel_position)+geom_histogram(bins=100,fill=\"white\",color=\"black\")+theme_cw()+ggtitle(\"1 mol\")\n",
    "\n",
    "\n",
    "grid.arrange(p_pos,pos_1mol)\n",
    "\n",
    "## check the cell versus meancount distribution</span>\n",
    "\n",
    "## Add transition and transversion information\n",
    "redeem@V.fitered <- redeem@V.fitered %>% mutate(changes=add_changes(Variants)) %>% mutate(types=add_types(changes))\n",
    "redeem@raw.fragment.uniqV<-redeem@raw.fragment.uniqV %>% mutate(changes=add_changes(variant)) %>% mutate(types=add_types(changes)) \n",
    "\n",
    "\n",
    "p_cell_maxcts <- ggplot(redeem@V.fitered) + aes(log2(CellN), log2(maxcts), color=types) +geom_point()+scale_color_brewer(palette=\"Set1\")+theme_cw()\n",
    "p_cell_meancts <- ggplot(redeem@V.fitered) + aes(log2(CellN), log2(PositiveMean_cts), color=types) +geom_point()+scale_color_brewer(palette=\"Set1\")+theme_cw()\n",
    "grid.arrange(p_cell_maxcts, p_cell_meancts, nrow=1)\n",
    "\n",
    "## report transversion rate\n",
    "\n",
    "raw.fragment.uniqV_allhetero <- subset(redeem@raw.fragment.uniqV, !variant %in% homosets)\n",
    "raw.fragment.uniqV_1mol<-subset(redeem@raw.fragment.uniqV, Freq==1 & !variant %in% homosets)\n",
    "raw.fragment.uniqV_2mol<-subset(redeem@raw.fragment.uniqV, Freq==2 & !variant %in% homosets)\n",
    "raw.fragment.uniqV_3molplus<-subset(redeem@raw.fragment.uniqV, Freq>=3 & !variant %in% homosets)\n",
    "transversion_rate<-c(unweight=sum(redeem@V.fitered$types==\"transversion\")/nrow(redeem@V.fitered),\n",
    "                     weight_freq_all=sum(raw.fragment.uniqV_allhetero$types==\"transversion\")/nrow(raw.fragment.uniqV_allhetero),\n",
    "                     weight_freq_1mol=sum(raw.fragment.uniqV_1mol$types==\"transversion\")/nrow(raw.fragment.uniqV_1mol),\n",
    "                     weight_freq_2mol=sum(raw.fragment.uniqV_2mol$types==\"transversion\")/nrow(raw.fragment.uniqV_2mol),\n",
    "                     weight_freq_3molplus=sum(raw.fragment.uniqV_3molplus$types==\"transversion\")/nrow(raw.fragment.uniqV_3molplus))\n",
    "print(transversion_rate)\n",
    "    \n",
    "GTsummary.filtered<- redeem@GTsummary.filtered %>% subset(.,!Variants %in% c(homosets,hotcall))\n",
    "\n",
    "\n",
    "##check number of total mutations; mutation per cell, number of cells connected </span>\n",
    "\n",
    "Cts.Mtx <- dMcast(GTsummary.filtered,Cell~Variants,value.var = \"Freq\")\n",
    "Cts.Mtx.bi <- Cts.Mtx\n",
    "Cts.Mtx.bi[Cts.Mtx.bi>=1]<-1\n",
    "\n",
    "number_of_total_mut <- ncol(Cts.Mtx.bi)\n",
    "number_of_total_cells <- nrow(Cts.Mtx.bi)\n",
    "mut_per_cell <- rowSums(Cts.Mtx.bi)\n",
    "redeem_n0.adj.mtx<-CountOverlap_Adj(Cts.Mtx.bi,n=0)\n",
    "diag(redeem_n0.adj.mtx)<-0\n",
    "number_cell_connected<-rowSums(redeem_n0.adj.mtx) \n",
    "mc <- graph_from_adjacency_matrix(redeem_n0.adj.mtx) %>% igraph::components(mode = \"weak\") \n",
    "\n",
    "mc <- graph_from_adjacency_matrix(redeem_n0.adj.mtx) %>% igraph::components(mode = \"weak\") \n",
    "fraction_in_component<-max(mc$csize)/nrow(redeem_n0.adj.mtx)\n",
    "\n",
    "print(paste0(\"number of cells: \", as.character(number_of_total_cells)))\n",
    "print(paste0(\"number of total mutations: \", as.character(number_of_total_mut)))\n",
    "print(paste0(\"number of mutations per cell: \", as.character(median(mut_per_cell))))\n",
    "print(paste0(\"number of cells connected: \", as.character(median(number_cell_connected))))\n",
    "print(paste0(\"fraction of cells in component: \", as.character(median(fraction_in_component))))\n",
    "\n",
    "report_metric<-list(number_of_total_mut=number_of_total_mut, \n",
    "                    number_of_total_cells=number_of_total_cells,\n",
    "                    mut_per_cell=mut_per_cell, mut_per_cell=mut_per_cell, \n",
    "                    fraction_in_component=fraction_in_component )\n",
    "\n",
    "plots <- list(p_pos=p_pos,pos_1mol=pos_1mol, p_cell_maxcts=p_cell_maxcts,p_cell_meancts=p_cell_meancts)\n",
    "\n",
    "return(list(plots=plots, transversion_rate=transversion_rate, report_metric=report_metric))\n",
    "}"
   ]
  },
  {
   "cell_type": "code",
   "execution_count": null,
   "id": "f5eefa33-7f81-4708-891c-a675950586c4",
   "metadata": {},
   "outputs": [],
   "source": []
  }
 ],
 "metadata": {
  "kernelspec": {
   "display_name": "R 4.3",
   "language": "R",
   "name": "r4.3"
  },
  "language_info": {
   "codemirror_mode": "r",
   "file_extension": ".r",
   "mimetype": "text/x-r-source",
   "name": "R",
   "pygments_lexer": "r",
   "version": "4.3.1"
  },
  "widgets": {
   "application/vnd.jupyter.widget-state+json": {
    "state": {},
    "version_major": 2,
    "version_minor": 0
   }
  }
 },
 "nbformat": 4,
 "nbformat_minor": 5
}
